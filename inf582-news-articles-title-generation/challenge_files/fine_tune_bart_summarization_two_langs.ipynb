{
  "cells": [
    {
      "cell_type": "markdown",
      "metadata": {
        "id": "X8VR8kd4ipPN"
      },
      "source": [
        "[![Open In Colab](https://colab.research.google.com/assets/colab-badge.svg)](https://colab.research.google.com/github/elsanns/xai-nlp-notebooks/blob/master/fine_tune_bart_summarization_two_langs.ipynb)\n",
        "[GitHub](https://github.com/elsanns/xai-nlp-notebooks/blob/master/fine_tune_bart_summarization_two_langs.ipynb)\n",
        "# Fine-tuning BART for summarization in two languages\n",
        "\n",
        "---"
      ]
    },
    {
      "cell_type": "markdown",
      "metadata": {
        "id": "sB0R6z3Wd_-0"
      },
      "source": [
        "In a world of ever-growing amount of data, the task of automatically creating coherent and fluent summaries is gaining importance. Coming up with a shorter, concise version of a document, can help to derive value from large volumes of text.\n",
        "\n",
        "This notebook contains an example of fine-tuning [Bart](https://huggingface.co/transformers/model_doc/bart.html) for generating summaries of article sections from the [WikiLingua](https://huggingface.co/datasets/wiki_lingua) dataset. WikiLingua is a multilingual set of articles. We will run the same code for two Bart checkpoints, including a non-English model from the [Hugging Face Model Hub](https://huggingface.co/models). We will be using:\n",
        "- the **English** portion of WikiLingua with [sshleifer/distilbart-xsum-12-3](https://huggingface.co/sshleifer/distilbart-xsum-12-3) Bart checkpoint, and\n",
        "- **French** articles from the WikiLingua with the [moussaKam/barthez-orangesum-abstract](https://huggingface.co/moussaKam/barthez-orangesum-abstract) model."
      ]
    },
    {
      "cell_type": "markdown",
      "metadata": {
        "id": "yUn2OqI9oPQb"
      },
      "source": [
        "## Setup\n",
        "\n",
        "---"
      ]
    },
    {
      "cell_type": "code",
      "execution_count": 3,
      "metadata": {
        "colab": {
          "base_uri": "https://localhost:8080/"
        },
        "id": "_gaaojSBoQ5f",
        "outputId": "d869b22a-e011-4ca6-f9be-ffd47c3599f2"
      },
      "outputs": [
        {
          "name": "stdout",
          "output_type": "stream",
          "text": [
            "Requirement already satisfied: transformers in /usr/local/lib/python3.10/dist-packages (4.38.2)\n",
            "Requirement already satisfied: filelock in /usr/local/lib/python3.10/dist-packages (from transformers) (3.13.1)\n",
            "Requirement already satisfied: huggingface-hub<1.0,>=0.19.3 in /usr/local/lib/python3.10/dist-packages (from transformers) (0.20.3)\n",
            "Requirement already satisfied: numpy>=1.17 in /usr/local/lib/python3.10/dist-packages (from transformers) (1.25.2)\n",
            "Requirement already satisfied: packaging>=20.0 in /usr/local/lib/python3.10/dist-packages (from transformers) (24.0)\n",
            "Requirement already satisfied: pyyaml>=5.1 in /usr/local/lib/python3.10/dist-packages (from transformers) (6.0.1)\n",
            "Requirement already satisfied: regex!=2019.12.17 in /usr/local/lib/python3.10/dist-packages (from transformers) (2023.12.25)\n",
            "Requirement already satisfied: requests in /usr/local/lib/python3.10/dist-packages (from transformers) (2.31.0)\n",
            "Requirement already satisfied: tokenizers<0.19,>=0.14 in /usr/local/lib/python3.10/dist-packages (from transformers) (0.15.2)\n",
            "Requirement already satisfied: safetensors>=0.4.1 in /usr/local/lib/python3.10/dist-packages (from transformers) (0.4.2)\n",
            "Requirement already satisfied: tqdm>=4.27 in /usr/local/lib/python3.10/dist-packages (from transformers) (4.66.2)\n",
            "Requirement already satisfied: fsspec>=2023.5.0 in /usr/local/lib/python3.10/dist-packages (from huggingface-hub<1.0,>=0.19.3->transformers) (2023.6.0)\n",
            "Requirement already satisfied: typing-extensions>=3.7.4.3 in /usr/local/lib/python3.10/dist-packages (from huggingface-hub<1.0,>=0.19.3->transformers) (4.10.0)\n",
            "Requirement already satisfied: charset-normalizer<4,>=2 in /usr/local/lib/python3.10/dist-packages (from requests->transformers) (3.3.2)\n",
            "Requirement already satisfied: idna<4,>=2.5 in /usr/local/lib/python3.10/dist-packages (from requests->transformers) (3.6)\n",
            "Requirement already satisfied: urllib3<3,>=1.21.1 in /usr/local/lib/python3.10/dist-packages (from requests->transformers) (2.0.7)\n",
            "Requirement already satisfied: certifi>=2017.4.17 in /usr/local/lib/python3.10/dist-packages (from requests->transformers) (2024.2.2)\n",
            "Requirement already satisfied: datasets in /usr/local/lib/python3.10/dist-packages (2.18.0)\n",
            "Requirement already satisfied: filelock in /usr/local/lib/python3.10/dist-packages (from datasets) (3.13.1)\n",
            "Requirement already satisfied: numpy>=1.17 in /usr/local/lib/python3.10/dist-packages (from datasets) (1.25.2)\n",
            "Requirement already satisfied: pyarrow>=12.0.0 in /usr/local/lib/python3.10/dist-packages (from datasets) (14.0.2)\n",
            "Requirement already satisfied: pyarrow-hotfix in /usr/local/lib/python3.10/dist-packages (from datasets) (0.6)\n",
            "Requirement already satisfied: dill<0.3.9,>=0.3.0 in /usr/local/lib/python3.10/dist-packages (from datasets) (0.3.8)\n",
            "Requirement already satisfied: pandas in /usr/local/lib/python3.10/dist-packages (from datasets) (1.5.3)\n",
            "Requirement already satisfied: requests>=2.19.0 in /usr/local/lib/python3.10/dist-packages (from datasets) (2.31.0)\n",
            "Requirement already satisfied: tqdm>=4.62.1 in /usr/local/lib/python3.10/dist-packages (from datasets) (4.66.2)\n",
            "Requirement already satisfied: xxhash in /usr/local/lib/python3.10/dist-packages (from datasets) (3.4.1)\n",
            "Requirement already satisfied: multiprocess in /usr/local/lib/python3.10/dist-packages (from datasets) (0.70.16)\n",
            "Requirement already satisfied: fsspec[http]<=2024.2.0,>=2023.1.0 in /usr/local/lib/python3.10/dist-packages (from datasets) (2023.6.0)\n",
            "Requirement already satisfied: aiohttp in /usr/local/lib/python3.10/dist-packages (from datasets) (3.9.3)\n",
            "Requirement already satisfied: huggingface-hub>=0.19.4 in /usr/local/lib/python3.10/dist-packages (from datasets) (0.20.3)\n",
            "Requirement already satisfied: packaging in /usr/local/lib/python3.10/dist-packages (from datasets) (24.0)\n",
            "Requirement already satisfied: pyyaml>=5.1 in /usr/local/lib/python3.10/dist-packages (from datasets) (6.0.1)\n",
            "Requirement already satisfied: aiosignal>=1.1.2 in /usr/local/lib/python3.10/dist-packages (from aiohttp->datasets) (1.3.1)\n",
            "Requirement already satisfied: attrs>=17.3.0 in /usr/local/lib/python3.10/dist-packages (from aiohttp->datasets) (23.2.0)\n",
            "Requirement already satisfied: frozenlist>=1.1.1 in /usr/local/lib/python3.10/dist-packages (from aiohttp->datasets) (1.4.1)\n",
            "Requirement already satisfied: multidict<7.0,>=4.5 in /usr/local/lib/python3.10/dist-packages (from aiohttp->datasets) (6.0.5)\n",
            "Requirement already satisfied: yarl<2.0,>=1.0 in /usr/local/lib/python3.10/dist-packages (from aiohttp->datasets) (1.9.4)\n",
            "Requirement already satisfied: async-timeout<5.0,>=4.0 in /usr/local/lib/python3.10/dist-packages (from aiohttp->datasets) (4.0.3)\n",
            "Requirement already satisfied: typing-extensions>=3.7.4.3 in /usr/local/lib/python3.10/dist-packages (from huggingface-hub>=0.19.4->datasets) (4.10.0)\n",
            "Requirement already satisfied: charset-normalizer<4,>=2 in /usr/local/lib/python3.10/dist-packages (from requests>=2.19.0->datasets) (3.3.2)\n",
            "Requirement already satisfied: idna<4,>=2.5 in /usr/local/lib/python3.10/dist-packages (from requests>=2.19.0->datasets) (3.6)\n",
            "Requirement already satisfied: urllib3<3,>=1.21.1 in /usr/local/lib/python3.10/dist-packages (from requests>=2.19.0->datasets) (2.0.7)\n",
            "Requirement already satisfied: certifi>=2017.4.17 in /usr/local/lib/python3.10/dist-packages (from requests>=2.19.0->datasets) (2024.2.2)\n",
            "Requirement already satisfied: python-dateutil>=2.8.1 in /usr/local/lib/python3.10/dist-packages (from pandas->datasets) (2.8.2)\n",
            "Requirement already satisfied: pytz>=2020.1 in /usr/local/lib/python3.10/dist-packages (from pandas->datasets) (2023.4)\n",
            "Requirement already satisfied: six>=1.5 in /usr/local/lib/python3.10/dist-packages (from python-dateutil>=2.8.1->pandas->datasets) (1.16.0)\n",
            "Requirement already satisfied: sentencepiece in /usr/local/lib/python3.10/dist-packages (0.1.99)\n",
            "Requirement already satisfied: rouge_score in /usr/local/lib/python3.10/dist-packages (0.1.2)\n",
            "Requirement already satisfied: absl-py in /usr/local/lib/python3.10/dist-packages (from rouge_score) (1.4.0)\n",
            "Requirement already satisfied: nltk in /usr/local/lib/python3.10/dist-packages (from rouge_score) (3.8.1)\n",
            "Requirement already satisfied: numpy in /usr/local/lib/python3.10/dist-packages (from rouge_score) (1.25.2)\n",
            "Requirement already satisfied: six>=1.14.0 in /usr/local/lib/python3.10/dist-packages (from rouge_score) (1.16.0)\n",
            "Requirement already satisfied: click in /usr/local/lib/python3.10/dist-packages (from nltk->rouge_score) (8.1.7)\n",
            "Requirement already satisfied: joblib in /usr/local/lib/python3.10/dist-packages (from nltk->rouge_score) (1.3.2)\n",
            "Requirement already satisfied: regex>=2021.8.3 in /usr/local/lib/python3.10/dist-packages (from nltk->rouge_score) (2023.12.25)\n",
            "Requirement already satisfied: tqdm in /usr/local/lib/python3.10/dist-packages (from nltk->rouge_score) (4.66.2)\n",
            "Requirement already satisfied: accelerate in /usr/local/lib/python3.10/dist-packages (0.28.0)\n",
            "Requirement already satisfied: numpy>=1.17 in /usr/local/lib/python3.10/dist-packages (from accelerate) (1.25.2)\n",
            "Requirement already satisfied: packaging>=20.0 in /usr/local/lib/python3.10/dist-packages (from accelerate) (24.0)\n",
            "Requirement already satisfied: psutil in /usr/local/lib/python3.10/dist-packages (from accelerate) (5.9.5)\n",
            "Requirement already satisfied: pyyaml in /usr/local/lib/python3.10/dist-packages (from accelerate) (6.0.1)\n",
            "Requirement already satisfied: torch>=1.10.0 in /usr/local/lib/python3.10/dist-packages (from accelerate) (2.2.1+cu121)\n",
            "Requirement already satisfied: huggingface-hub in /usr/local/lib/python3.10/dist-packages (from accelerate) (0.20.3)\n",
            "Requirement already satisfied: safetensors>=0.3.1 in /usr/local/lib/python3.10/dist-packages (from accelerate) (0.4.2)\n",
            "Requirement already satisfied: filelock in /usr/local/lib/python3.10/dist-packages (from torch>=1.10.0->accelerate) (3.13.1)\n",
            "Requirement already satisfied: typing-extensions>=4.8.0 in /usr/local/lib/python3.10/dist-packages (from torch>=1.10.0->accelerate) (4.10.0)\n",
            "Requirement already satisfied: sympy in /usr/local/lib/python3.10/dist-packages (from torch>=1.10.0->accelerate) (1.12)\n",
            "Requirement already satisfied: networkx in /usr/local/lib/python3.10/dist-packages (from torch>=1.10.0->accelerate) (3.2.1)\n",
            "Requirement already satisfied: jinja2 in /usr/local/lib/python3.10/dist-packages (from torch>=1.10.0->accelerate) (3.1.3)\n",
            "Requirement already satisfied: fsspec in /usr/local/lib/python3.10/dist-packages (from torch>=1.10.0->accelerate) (2023.6.0)\n",
            "Requirement already satisfied: nvidia-cuda-nvrtc-cu12==12.1.105 in /usr/local/lib/python3.10/dist-packages (from torch>=1.10.0->accelerate) (12.1.105)\n",
            "Requirement already satisfied: nvidia-cuda-runtime-cu12==12.1.105 in /usr/local/lib/python3.10/dist-packages (from torch>=1.10.0->accelerate) (12.1.105)\n",
            "Requirement already satisfied: nvidia-cuda-cupti-cu12==12.1.105 in /usr/local/lib/python3.10/dist-packages (from torch>=1.10.0->accelerate) (12.1.105)\n",
            "Requirement already satisfied: nvidia-cudnn-cu12==8.9.2.26 in /usr/local/lib/python3.10/dist-packages (from torch>=1.10.0->accelerate) (8.9.2.26)\n",
            "Requirement already satisfied: nvidia-cublas-cu12==12.1.3.1 in /usr/local/lib/python3.10/dist-packages (from torch>=1.10.0->accelerate) (12.1.3.1)\n",
            "Requirement already satisfied: nvidia-cufft-cu12==11.0.2.54 in /usr/local/lib/python3.10/dist-packages (from torch>=1.10.0->accelerate) (11.0.2.54)\n",
            "Requirement already satisfied: nvidia-curand-cu12==10.3.2.106 in /usr/local/lib/python3.10/dist-packages (from torch>=1.10.0->accelerate) (10.3.2.106)\n",
            "Requirement already satisfied: nvidia-cusolver-cu12==11.4.5.107 in /usr/local/lib/python3.10/dist-packages (from torch>=1.10.0->accelerate) (11.4.5.107)\n",
            "Requirement already satisfied: nvidia-cusparse-cu12==12.1.0.106 in /usr/local/lib/python3.10/dist-packages (from torch>=1.10.0->accelerate) (12.1.0.106)\n",
            "Requirement already satisfied: nvidia-nccl-cu12==2.19.3 in /usr/local/lib/python3.10/dist-packages (from torch>=1.10.0->accelerate) (2.19.3)\n",
            "Requirement already satisfied: nvidia-nvtx-cu12==12.1.105 in /usr/local/lib/python3.10/dist-packages (from torch>=1.10.0->accelerate) (12.1.105)\n",
            "Requirement already satisfied: triton==2.2.0 in /usr/local/lib/python3.10/dist-packages (from torch>=1.10.0->accelerate) (2.2.0)\n",
            "Requirement already satisfied: nvidia-nvjitlink-cu12 in /usr/local/lib/python3.10/dist-packages (from nvidia-cusolver-cu12==11.4.5.107->torch>=1.10.0->accelerate) (12.4.99)\n",
            "Requirement already satisfied: requests in /usr/local/lib/python3.10/dist-packages (from huggingface-hub->accelerate) (2.31.0)\n",
            "Requirement already satisfied: tqdm>=4.42.1 in /usr/local/lib/python3.10/dist-packages (from huggingface-hub->accelerate) (4.66.2)\n",
            "Requirement already satisfied: MarkupSafe>=2.0 in /usr/local/lib/python3.10/dist-packages (from jinja2->torch>=1.10.0->accelerate) (2.1.5)\n",
            "Requirement already satisfied: charset-normalizer<4,>=2 in /usr/local/lib/python3.10/dist-packages (from requests->huggingface-hub->accelerate) (3.3.2)\n",
            "Requirement already satisfied: idna<4,>=2.5 in /usr/local/lib/python3.10/dist-packages (from requests->huggingface-hub->accelerate) (3.6)\n",
            "Requirement already satisfied: urllib3<3,>=1.21.1 in /usr/local/lib/python3.10/dist-packages (from requests->huggingface-hub->accelerate) (2.0.7)\n",
            "Requirement already satisfied: certifi>=2017.4.17 in /usr/local/lib/python3.10/dist-packages (from requests->huggingface-hub->accelerate) (2024.2.2)\n",
            "Requirement already satisfied: mpmath>=0.19 in /usr/local/lib/python3.10/dist-packages (from sympy->torch>=1.10.0->accelerate) (1.3.0)\n"
          ]
        }
      ],
      "source": [
        "! pip install transformers\n",
        "! pip install datasets\n",
        "! pip install sentencepiece\n",
        "! pip install rouge_score\n",
        "! pip install accelerate -U\n",
        "# ! pip install wandb"
      ]
    },
    {
      "cell_type": "code",
      "execution_count": 4,
      "metadata": {
        "id": "rimUDCQGoTAJ"
      },
      "outputs": [],
      "source": [
        "import torch\n",
        "import numpy as np\n",
        "import datasets\n",
        "\n",
        "from transformers import (\n",
        "    AutoModelForSeq2SeqLM,\n",
        "    AutoTokenizer,\n",
        "    Seq2SeqTrainingArguments,\n",
        "    Seq2SeqTrainer,\n",
        "    DataCollatorForSeq2Seq,\n",
        ")\n",
        "\n",
        "from tabulate import tabulate\n",
        "import nltk\n",
        "from datetime import datetime"
      ]
    },
    {
      "cell_type": "markdown",
      "metadata": {
        "id": "_YhMwWmW3sHZ"
      },
      "source": [
        "## Set language\n",
        "\n",
        "---"
      ]
    },
    {
      "cell_type": "markdown",
      "metadata": {
        "id": "_KWjbDU4olJd"
      },
      "source": [
        "Pick a language. In our example, there is a choice of English and French."
      ]
    },
    {
      "cell_type": "markdown",
      "metadata": {
        "id": "Fj1Qr2rESpNf"
      },
      "source": [
        "French"
      ]
    },
    {
      "cell_type": "code",
      "execution_count": 5,
      "metadata": {
        "id": "6GYAc7V13trN"
      },
      "outputs": [],
      "source": [
        "language = \"french\""
      ]
    },
    {
      "cell_type": "markdown",
      "metadata": {
        "id": "5lI5-uEUSnyO"
      },
      "source": [
        "English"
      ]
    },
    {
      "cell_type": "code",
      "execution_count": 6,
      "metadata": {
        "id": "Z_QkvK4DSp9a"
      },
      "outputs": [],
      "source": [
        "#language = \"english\""
      ]
    },
    {
      "cell_type": "markdown",
      "metadata": {
        "id": "aX-q_O-hoe3g"
      },
      "source": [
        "## Model and tokenizer\n",
        "\n",
        "---"
      ]
    },
    {
      "cell_type": "markdown",
      "metadata": {
        "id": "yb21WY-9mavn"
      },
      "source": [
        "Download model and tokenizer. Use default parameters or try custom values (see [HF Bart configuration](https://huggingface.co/transformers/_modules/transformers/configuration_bart.html) and [Fairseq Bart](https://github.com/pytorch/fairseq/tree/master/examples/bart))."
      ]
    },
    {
      "cell_type": "code",
      "execution_count": 15,
      "metadata": {
        "colab": {
          "base_uri": "https://localhost:8080/"
        },
        "id": "7vMhyyIPobyx",
        "outputId": "389431eb-c72b-49ed-ac40-c1297103f2b0"
      },
      "outputs": [
        {
          "name": "stderr",
          "output_type": "stream",
          "text": [
            "/usr/local/lib/python3.10/dist-packages/transformers/generation/configuration_utils.py:453: UserWarning: `num_beams` is set to 1. However, `early_stopping` is set to `True` -- this flag is only used in beam-based generation modes. You should set `num_beams>1` or unset `early_stopping`. This was detected when initializing the generation config instance, which means the corresponding file may hold incorrect parameterization and should be fixed.\n",
            "  warnings.warn(\n",
            "/usr/local/lib/python3.10/dist-packages/transformers/generation/configuration_utils.py:453: UserWarning: `num_beams` is set to 1. However, `early_stopping` is set to `True` -- this flag is only used in beam-based generation modes. You should set `num_beams>1` or unset `early_stopping`.\n",
            "  warnings.warn(\n"
          ]
        }
      ],
      "source": [
        "model_name = \"sshleifer/distilbart-xsum-12-3\"\n",
        "if language == \"french\":\n",
        "    model_name = \"moussaKam/barthez-orangesum-abstract\"\n",
        "\n",
        "model = AutoModelForSeq2SeqLM.from_pretrained(model_name)\n",
        "tokenizer = AutoTokenizer.from_pretrained(model_name)\n",
        "\n",
        "# Set model parameters or use the default\n",
        "# print(model.config)\n",
        "\n",
        "# tokenization\n",
        "encoder_max_length = 256  # demo\n",
        "decoder_max_length = 64"
      ]
    },
    {
      "cell_type": "markdown",
      "metadata": {
        "id": "wwtSPRJgomBS"
      },
      "source": [
        "## Data\n",
        "\n",
        "---"
      ]
    },
    {
      "cell_type": "markdown",
      "metadata": {
        "id": "OZfrIK8fW9DU"
      },
      "source": [
        "### Download"
      ]
    },
    {
      "cell_type": "markdown",
      "metadata": {
        "id": "kV9bhaJw1dbA"
      },
      "source": [
        "For demonstration, we are only using a small portion of the data."
      ]
    },
    {
      "cell_type": "code",
      "execution_count": 8,
      "metadata": {
        "id": "6DAhod1Qq0w7"
      },
      "outputs": [],
      "source": [
        "# Trained on validation set because of memory and time limitation\n",
        "\n",
        "dataset = datasets.load_dataset(\"csv\", data_files = \"validation.csv\")\n",
        "dataset = dataset[\"train\"]\n",
        "\n",
        "train_data_txt, validation_data_txt = dataset.train_test_split(test_size=0.3).values()"
      ]
    },
    {
      "cell_type": "code",
      "execution_count": 9,
      "metadata": {
        "colab": {
          "base_uri": "https://localhost:8080/"
        },
        "id": "ciueSwrGsCkt",
        "outputId": "3d71a4ef-b894-4c26-b0d4-fc5d8d479457"
      },
      "outputs": [
        {
          "data": {
            "text/plain": [
              "Dataset({\n",
              "    features: ['text', 'titles'],\n",
              "    num_rows: 1500\n",
              "})"
            ]
          },
          "execution_count": 9,
          "metadata": {},
          "output_type": "execute_result"
        }
      ],
      "source": [
        "dataset"
      ]
    },
    {
      "cell_type": "markdown",
      "metadata": {
        "id": "sjGvlbT6XBe6"
      },
      "source": [
        "### Prepare"
      ]
    },
    {
      "cell_type": "markdown",
      "metadata": {
        "id": "BD7uaok9474K"
      },
      "source": [
        "**Format and split into train and validation sets**"
      ]
    },
    {
      "cell_type": "markdown",
      "metadata": {
        "id": "5pbe750YpMfD"
      },
      "source": [
        "**Preprocess and tokenize**"
      ]
    },
    {
      "cell_type": "code",
      "execution_count": 16,
      "metadata": {
        "colab": {
          "base_uri": "https://localhost:8080/",
          "height": 81,
          "referenced_widgets": [
            "5adfbb9b03454944a14c034a8e9106f5",
            "5993e9b3453741168a09886a9ab180b0",
            "74eca1c88d1e40bfb36dcccc4eef32f1",
            "f39a9652fbfb486f88aeb8e18a0de582",
            "0b541f1b39064c0e834a731188649f33",
            "14b24a76ca744685a8229cbb6ac38bec",
            "23a4a95b27014ebf95a8578ef7ae1ff2",
            "f203dfd4c81b4a5981a7d6294f837bba",
            "fa5117f89a7d4becaaaaa9a9d039987a",
            "f6833d97b62c49448c82e797205662be",
            "f903e5d4857f401aae73e09df1ccfdff",
            "97fa0e36e57041f3b373a086c0def2b9",
            "c2beaf2316db4709bbcd5595eee76eef",
            "369bf65fcc16498da0257ac05e4fcaad",
            "970a9fb303f142cfb6c4ef92b0ea3dfe",
            "70e98190a5ba4cd6a94856f575952c9e",
            "a2d6479ff0d44124b8f81e1d1636bf21",
            "8b7ba68eaf214bb2813dbed87b27582c",
            "6bdb68a7b7564ea38989f0776db872f3",
            "f598c604f8d94ddcb138e3ec96e2a7af",
            "ac3e5ab0d9d346aebce41afeac9f5963",
            "f2dc13c5824847adab174320eedd6879"
          ]
        },
        "id": "PyksYNwxA4OM",
        "outputId": "d4b34081-bbef-4ce1-d29b-f33acd111316"
      },
      "outputs": [
        {
          "data": {
            "application/vnd.jupyter.widget-view+json": {
              "model_id": "5adfbb9b03454944a14c034a8e9106f5",
              "version_major": 2,
              "version_minor": 0
            },
            "text/plain": [
              "Map:   0%|          | 0/1050 [00:00<?, ? examples/s]"
            ]
          },
          "metadata": {},
          "output_type": "display_data"
        },
        {
          "data": {
            "application/vnd.jupyter.widget-view+json": {
              "model_id": "97fa0e36e57041f3b373a086c0def2b9",
              "version_major": 2,
              "version_minor": 0
            },
            "text/plain": [
              "Map:   0%|          | 0/450 [00:00<?, ? examples/s]"
            ]
          },
          "metadata": {},
          "output_type": "display_data"
        }
      ],
      "source": [
        "def batch_tokenize_preprocess(batch, tokenizer, max_source_length, max_target_length):\n",
        "    source, target = batch[\"text\"], batch[\"titles\"]\n",
        "    source_tokenized = tokenizer(\n",
        "        source, padding=\"max_length\", truncation=True, max_length=max_source_length\n",
        "    )\n",
        "    target_tokenized = tokenizer(\n",
        "        target, padding=\"max_length\", truncation=True, max_length=max_target_length\n",
        "    )\n",
        "\n",
        "    batch = {k: v for k, v in source_tokenized.items()}\n",
        "    # Ignore padding in the loss\n",
        "    batch[\"labels\"] = [\n",
        "        [-100 if token == tokenizer.pad_token_id else token for token in l]\n",
        "        for l in target_tokenized[\"input_ids\"]\n",
        "    ]\n",
        "    return batch\n",
        "\n",
        "\n",
        "train_data = train_data_txt.map(\n",
        "    lambda batch: batch_tokenize_preprocess(\n",
        "        batch, tokenizer, encoder_max_length, decoder_max_length\n",
        "    ),\n",
        "    batched=True,\n",
        "    remove_columns=train_data_txt.column_names,\n",
        ")\n",
        "\n",
        "validation_data = validation_data_txt.map(\n",
        "    lambda batch: batch_tokenize_preprocess(\n",
        "        batch, tokenizer, encoder_max_length, decoder_max_length\n",
        "    ),\n",
        "    batched=True,\n",
        "    remove_columns=validation_data_txt.column_names,\n",
        ")"
      ]
    },
    {
      "cell_type": "markdown",
      "metadata": {
        "id": "h7ViBmMopWfb"
      },
      "source": [
        "## Training\n",
        "\n",
        "---"
      ]
    },
    {
      "cell_type": "markdown",
      "metadata": {
        "id": "9EfTztMPv2vG"
      },
      "source": [
        "### Metrics"
      ]
    },
    {
      "cell_type": "code",
      "execution_count": 17,
      "metadata": {
        "colab": {
          "base_uri": "https://localhost:8080/"
        },
        "id": "rpNCGl2sYl2p",
        "outputId": "db653016-9e69-4858-f1db-8cee51e2a5db"
      },
      "outputs": [
        {
          "name": "stderr",
          "output_type": "stream",
          "text": [
            "/usr/local/lib/python3.10/dist-packages/datasets/load.py:756: FutureWarning: The repository for rouge contains custom code which must be executed to correctly load the metric. You can inspect the repository content at https://raw.githubusercontent.com/huggingface/datasets/2.18.0/metrics/rouge/rouge.py\n",
            "You can avoid this message in future by passing the argument `trust_remote_code=True`.\n",
            "Passing `trust_remote_code=True` will be mandatory to load this metric from the next major release of `datasets`.\n",
            "  warnings.warn(\n"
          ]
        }
      ],
      "source": [
        "# Borrowed from https://github.com/huggingface/transformers/blob/master/examples/seq2seq/run_summarization.py\n",
        "\n",
        "nltk.download(\"punkt\", quiet=True)\n",
        "\n",
        "metric = datasets.load_metric(\"rouge\")\n",
        "\n",
        "\n",
        "def postprocess_text(preds, labels):\n",
        "    preds = [pred.strip() for pred in preds]\n",
        "    labels = [label.strip() for label in labels]\n",
        "\n",
        "    # rougeLSum expects newline after each sentence\n",
        "    preds = [\"\\n\".join(nltk.sent_tokenize(pred)) for pred in preds]\n",
        "    labels = [\"\\n\".join(nltk.sent_tokenize(label)) for label in labels]\n",
        "\n",
        "    return preds, labels\n",
        "\n",
        "\n",
        "def compute_metrics(eval_preds):\n",
        "    preds, labels = eval_preds\n",
        "    if isinstance(preds, tuple):\n",
        "        preds = preds[0]\n",
        "    decoded_preds = tokenizer.batch_decode(preds, skip_special_tokens=True)\n",
        "    # Replace -100 in the labels as we can't decode them.\n",
        "    labels = np.where(labels != -100, labels, tokenizer.pad_token_id)\n",
        "    decoded_labels = tokenizer.batch_decode(labels, skip_special_tokens=True)\n",
        "\n",
        "    # Some simple post-processing\n",
        "    decoded_preds, decoded_labels = postprocess_text(decoded_preds, decoded_labels)\n",
        "\n",
        "    result = metric.compute(\n",
        "        predictions=decoded_preds, references=decoded_labels, use_stemmer=True\n",
        "    )\n",
        "    # Extract a few results from ROUGE\n",
        "    result = {key: value.mid.fmeasure * 100 for key, value in result.items()}\n",
        "\n",
        "    prediction_lens = [\n",
        "        np.count_nonzero(pred != tokenizer.pad_token_id) for pred in preds\n",
        "    ]\n",
        "    result[\"gen_len\"] = np.mean(prediction_lens)\n",
        "    result = {k: round(v, 4) for k, v in result.items()}\n",
        "    return result"
      ]
    },
    {
      "cell_type": "markdown",
      "metadata": {
        "id": "8O1EeUi-pbPA"
      },
      "source": [
        "### Training arguments"
      ]
    },
    {
      "cell_type": "code",
      "execution_count": 18,
      "metadata": {
        "colab": {
          "base_uri": "https://localhost:8080/"
        },
        "id": "6R9d7ELIpX9F",
        "outputId": "1ac4e59e-3b0f-403b-e98d-205e65768565"
      },
      "outputs": [
        {
          "name": "stderr",
          "output_type": "stream",
          "text": [
            "Using the `WANDB_DISABLED` environment variable is deprecated and will be removed in v5. Use the --report_to flag to control the integrations used for logging result (for instance --report_to none).\n",
            "/usr/local/lib/python3.10/dist-packages/accelerate/accelerator.py:432: FutureWarning: Passing the following arguments to `Accelerator` is deprecated and will be removed in version 1.0 of Accelerate: dict_keys(['dispatch_batches', 'split_batches', 'even_batches', 'use_seedable_sampler']). Please pass an `accelerate.DataLoaderConfiguration` instead: \n",
            "dataloader_config = DataLoaderConfiguration(dispatch_batches=None, split_batches=False, even_batches=True, use_seedable_sampler=True)\n",
            "  warnings.warn(\n"
          ]
        }
      ],
      "source": [
        "training_args = Seq2SeqTrainingArguments(\n",
        "    output_dir=\"results\",\n",
        "    num_train_epochs=1,  # demo\n",
        "    do_train=True,\n",
        "    do_eval=True,\n",
        "    per_device_train_batch_size=4,  # demo\n",
        "    per_device_eval_batch_size=4,\n",
        "    learning_rate=3e-05,\n",
        "    warmup_steps=500,\n",
        "    weight_decay=0.1,\n",
        "    #label_smoothing_factor=0.1,\n",
        "    generation_max_length = 100,\n",
        "    predict_with_generate=True,\n",
        "    logging_dir=\"logs\",\n",
        "    logging_steps=50,\n",
        "    save_total_limit=3,\n",
        "    #report_to = None,\n",
        ")\n",
        "\n",
        "#data_collator = DataCollatorForSeq2Seq(tokenizer, model=model)\n",
        "\n",
        "trainer = Seq2SeqTrainer(\n",
        "    model=model,\n",
        "    args=training_args,\n",
        "    #data_collator=data_collator,\n",
        "    train_dataset=train_data,\n",
        "    eval_dataset=validation_data,\n",
        "    tokenizer=tokenizer,\n",
        "    compute_metrics=compute_metrics,\n",
        ")"
      ]
    },
    {
      "cell_type": "markdown",
      "metadata": {
        "id": "Qzcsz3gKplPO"
      },
      "source": [
        "### Train"
      ]
    },
    {
      "cell_type": "markdown",
      "metadata": {
        "id": "Rpg2a0mfoD-l"
      },
      "source": [
        "Wandb integration"
      ]
    },
    {
      "cell_type": "code",
      "execution_count": 19,
      "metadata": {
        "id": "RA3Dv081y-TF"
      },
      "outputs": [],
      "source": [
        "import os\n",
        "os.environ[\"WANDB_DISABLED\"] = \"true\""
      ]
    },
    {
      "cell_type": "markdown",
      "metadata": {
        "id": "kEtd_a7TPpkd"
      },
      "source": [
        "Evaluate before fine-tuning"
      ]
    },
    {
      "cell_type": "code",
      "execution_count": 20,
      "metadata": {
        "colab": {
          "base_uri": "https://localhost:8080/",
          "height": 1000
        },
        "id": "5yveDiz7pm3i",
        "outputId": "f5eb6538-9390-4cc8-9808-541e8dacffc7"
      },
      "outputs": [
        {
          "name": "stderr",
          "output_type": "stream",
          "text": [
            "/usr/local/lib/python3.10/dist-packages/transformers/generation/configuration_utils.py:453: UserWarning: `num_beams` is set to 1. However, `early_stopping` is set to `True` -- this flag is only used in beam-based generation modes. You should set `num_beams>1` or unset `early_stopping`. This was detected when initializing the generation config instance, which means the corresponding file may hold incorrect parameterization and should be fixed.\n",
            "  warnings.warn(\n",
            "/usr/local/lib/python3.10/dist-packages/transformers/generation/configuration_utils.py:453: UserWarning: `num_beams` is set to 1. However, `early_stopping` is set to `True` -- this flag is only used in beam-based generation modes. You should set `num_beams>1` or unset `early_stopping`.\n",
            "  warnings.warn(\n"
          ]
        },
        {
          "data": {
            "text/html": [
              "\n",
              "    <div>\n",
              "      \n",
              "      <progress value='113' max='113' style='width:300px; height:20px; vertical-align: middle;'></progress>\n",
              "      [113/113 00:58]\n",
              "    </div>\n",
              "    "
            ],
            "text/plain": [
              "<IPython.core.display.HTML object>"
            ]
          },
          "metadata": {},
          "output_type": "display_data"
        },
        {
          "ename": "OverflowError",
          "evalue": "out of range integral type conversion attempted",
          "output_type": "error",
          "traceback": [
            "\u001b[0;31m---------------------------------------------------------------------------\u001b[0m",
            "\u001b[0;31mOverflowError\u001b[0m                             Traceback (most recent call last)",
            "\u001b[0;32m<ipython-input-20-f245b31d31e3>\u001b[0m in \u001b[0;36m<cell line: 1>\u001b[0;34m()\u001b[0m\n\u001b[0;32m----> 1\u001b[0;31m \u001b[0mtrainer\u001b[0m\u001b[0;34m.\u001b[0m\u001b[0mevaluate\u001b[0m\u001b[0;34m(\u001b[0m\u001b[0;34m)\u001b[0m\u001b[0;34m\u001b[0m\u001b[0;34m\u001b[0m\u001b[0m\n\u001b[0m",
            "\u001b[0;32m/usr/local/lib/python3.10/dist-packages/transformers/trainer_seq2seq.py\u001b[0m in \u001b[0;36mevaluate\u001b[0;34m(self, eval_dataset, ignore_keys, metric_key_prefix, **gen_kwargs)\u001b[0m\n\u001b[1;32m    164\u001b[0m         \u001b[0mself\u001b[0m\u001b[0;34m.\u001b[0m\u001b[0mgather_function\u001b[0m \u001b[0;34m=\u001b[0m \u001b[0mself\u001b[0m\u001b[0;34m.\u001b[0m\u001b[0maccelerator\u001b[0m\u001b[0;34m.\u001b[0m\u001b[0mgather\u001b[0m\u001b[0;34m\u001b[0m\u001b[0;34m\u001b[0m\u001b[0m\n\u001b[1;32m    165\u001b[0m         \u001b[0mself\u001b[0m\u001b[0;34m.\u001b[0m\u001b[0m_gen_kwargs\u001b[0m \u001b[0;34m=\u001b[0m \u001b[0mgen_kwargs\u001b[0m\u001b[0;34m\u001b[0m\u001b[0;34m\u001b[0m\u001b[0m\n\u001b[0;32m--> 166\u001b[0;31m         \u001b[0;32mreturn\u001b[0m \u001b[0msuper\u001b[0m\u001b[0;34m(\u001b[0m\u001b[0;34m)\u001b[0m\u001b[0;34m.\u001b[0m\u001b[0mevaluate\u001b[0m\u001b[0;34m(\u001b[0m\u001b[0meval_dataset\u001b[0m\u001b[0;34m,\u001b[0m \u001b[0mignore_keys\u001b[0m\u001b[0;34m=\u001b[0m\u001b[0mignore_keys\u001b[0m\u001b[0;34m,\u001b[0m \u001b[0mmetric_key_prefix\u001b[0m\u001b[0;34m=\u001b[0m\u001b[0mmetric_key_prefix\u001b[0m\u001b[0;34m)\u001b[0m\u001b[0;34m\u001b[0m\u001b[0;34m\u001b[0m\u001b[0m\n\u001b[0m\u001b[1;32m    167\u001b[0m \u001b[0;34m\u001b[0m\u001b[0m\n\u001b[1;32m    168\u001b[0m     def predict(\n",
            "\u001b[0;32m/usr/local/lib/python3.10/dist-packages/transformers/trainer.py\u001b[0m in \u001b[0;36mevaluate\u001b[0;34m(self, eval_dataset, ignore_keys, metric_key_prefix)\u001b[0m\n\u001b[1;32m   3227\u001b[0m \u001b[0;34m\u001b[0m\u001b[0m\n\u001b[1;32m   3228\u001b[0m         \u001b[0meval_loop\u001b[0m \u001b[0;34m=\u001b[0m \u001b[0mself\u001b[0m\u001b[0;34m.\u001b[0m\u001b[0mprediction_loop\u001b[0m \u001b[0;32mif\u001b[0m \u001b[0mself\u001b[0m\u001b[0;34m.\u001b[0m\u001b[0margs\u001b[0m\u001b[0;34m.\u001b[0m\u001b[0muse_legacy_prediction_loop\u001b[0m \u001b[0;32melse\u001b[0m \u001b[0mself\u001b[0m\u001b[0;34m.\u001b[0m\u001b[0mevaluation_loop\u001b[0m\u001b[0;34m\u001b[0m\u001b[0;34m\u001b[0m\u001b[0m\n\u001b[0;32m-> 3229\u001b[0;31m         output = eval_loop(\n\u001b[0m\u001b[1;32m   3230\u001b[0m             \u001b[0meval_dataloader\u001b[0m\u001b[0;34m,\u001b[0m\u001b[0;34m\u001b[0m\u001b[0;34m\u001b[0m\u001b[0m\n\u001b[1;32m   3231\u001b[0m             \u001b[0mdescription\u001b[0m\u001b[0;34m=\u001b[0m\u001b[0;34m\"Evaluation\"\u001b[0m\u001b[0;34m,\u001b[0m\u001b[0;34m\u001b[0m\u001b[0;34m\u001b[0m\u001b[0m\n",
            "\u001b[0;32m/usr/local/lib/python3.10/dist-packages/transformers/trainer.py\u001b[0m in \u001b[0;36mevaluation_loop\u001b[0;34m(self, dataloader, description, prediction_loss_only, ignore_keys, metric_key_prefix)\u001b[0m\n\u001b[1;32m   3518\u001b[0m                 )\n\u001b[1;32m   3519\u001b[0m             \u001b[0;32melse\u001b[0m\u001b[0;34m:\u001b[0m\u001b[0;34m\u001b[0m\u001b[0;34m\u001b[0m\u001b[0m\n\u001b[0;32m-> 3520\u001b[0;31m                 \u001b[0mmetrics\u001b[0m \u001b[0;34m=\u001b[0m \u001b[0mself\u001b[0m\u001b[0;34m.\u001b[0m\u001b[0mcompute_metrics\u001b[0m\u001b[0;34m(\u001b[0m\u001b[0mEvalPrediction\u001b[0m\u001b[0;34m(\u001b[0m\u001b[0mpredictions\u001b[0m\u001b[0;34m=\u001b[0m\u001b[0mall_preds\u001b[0m\u001b[0;34m,\u001b[0m \u001b[0mlabel_ids\u001b[0m\u001b[0;34m=\u001b[0m\u001b[0mall_labels\u001b[0m\u001b[0;34m)\u001b[0m\u001b[0;34m)\u001b[0m\u001b[0;34m\u001b[0m\u001b[0;34m\u001b[0m\u001b[0m\n\u001b[0m\u001b[1;32m   3521\u001b[0m         \u001b[0;32melse\u001b[0m\u001b[0;34m:\u001b[0m\u001b[0;34m\u001b[0m\u001b[0;34m\u001b[0m\u001b[0m\n\u001b[1;32m   3522\u001b[0m             \u001b[0mmetrics\u001b[0m \u001b[0;34m=\u001b[0m \u001b[0;34m{\u001b[0m\u001b[0;34m}\u001b[0m\u001b[0;34m\u001b[0m\u001b[0;34m\u001b[0m\u001b[0m\n",
            "\u001b[0;32m<ipython-input-17-16757958f45a>\u001b[0m in \u001b[0;36mcompute_metrics\u001b[0;34m(eval_preds)\u001b[0m\n\u001b[1;32m     21\u001b[0m     \u001b[0;32mif\u001b[0m \u001b[0misinstance\u001b[0m\u001b[0;34m(\u001b[0m\u001b[0mpreds\u001b[0m\u001b[0;34m,\u001b[0m \u001b[0mtuple\u001b[0m\u001b[0;34m)\u001b[0m\u001b[0;34m:\u001b[0m\u001b[0;34m\u001b[0m\u001b[0;34m\u001b[0m\u001b[0m\n\u001b[1;32m     22\u001b[0m         \u001b[0mpreds\u001b[0m \u001b[0;34m=\u001b[0m \u001b[0mpreds\u001b[0m\u001b[0;34m[\u001b[0m\u001b[0;36m0\u001b[0m\u001b[0;34m]\u001b[0m\u001b[0;34m\u001b[0m\u001b[0;34m\u001b[0m\u001b[0m\n\u001b[0;32m---> 23\u001b[0;31m     \u001b[0mdecoded_preds\u001b[0m \u001b[0;34m=\u001b[0m \u001b[0mtokenizer\u001b[0m\u001b[0;34m.\u001b[0m\u001b[0mbatch_decode\u001b[0m\u001b[0;34m(\u001b[0m\u001b[0mpreds\u001b[0m\u001b[0;34m,\u001b[0m \u001b[0mskip_special_tokens\u001b[0m\u001b[0;34m=\u001b[0m\u001b[0;32mTrue\u001b[0m\u001b[0;34m)\u001b[0m\u001b[0;34m\u001b[0m\u001b[0;34m\u001b[0m\u001b[0m\n\u001b[0m\u001b[1;32m     24\u001b[0m     \u001b[0;31m# Replace -100 in the labels as we can't decode them.\u001b[0m\u001b[0;34m\u001b[0m\u001b[0;34m\u001b[0m\u001b[0m\n\u001b[1;32m     25\u001b[0m     \u001b[0mlabels\u001b[0m \u001b[0;34m=\u001b[0m \u001b[0mnp\u001b[0m\u001b[0;34m.\u001b[0m\u001b[0mwhere\u001b[0m\u001b[0;34m(\u001b[0m\u001b[0mlabels\u001b[0m \u001b[0;34m!=\u001b[0m \u001b[0;34m-\u001b[0m\u001b[0;36m100\u001b[0m\u001b[0;34m,\u001b[0m \u001b[0mlabels\u001b[0m\u001b[0;34m,\u001b[0m \u001b[0mtokenizer\u001b[0m\u001b[0;34m.\u001b[0m\u001b[0mpad_token_id\u001b[0m\u001b[0;34m)\u001b[0m\u001b[0;34m\u001b[0m\u001b[0;34m\u001b[0m\u001b[0m\n",
            "\u001b[0;32m/usr/local/lib/python3.10/dist-packages/transformers/tokenization_utils_base.py\u001b[0m in \u001b[0;36mbatch_decode\u001b[0;34m(self, sequences, skip_special_tokens, clean_up_tokenization_spaces, **kwargs)\u001b[0m\n\u001b[1;32m   3740\u001b[0m             \u001b[0;31m`\u001b[0m\u001b[0mList\u001b[0m\u001b[0;34m[\u001b[0m\u001b[0mstr\u001b[0m\u001b[0;34m]\u001b[0m\u001b[0;31m`\u001b[0m\u001b[0;34m:\u001b[0m \u001b[0mThe\u001b[0m \u001b[0mlist\u001b[0m \u001b[0mof\u001b[0m \u001b[0mdecoded\u001b[0m \u001b[0msentences\u001b[0m\u001b[0;34m.\u001b[0m\u001b[0;34m\u001b[0m\u001b[0;34m\u001b[0m\u001b[0m\n\u001b[1;32m   3741\u001b[0m         \"\"\"\n\u001b[0;32m-> 3742\u001b[0;31m         return [\n\u001b[0m\u001b[1;32m   3743\u001b[0m             self.decode(\n\u001b[1;32m   3744\u001b[0m                 \u001b[0mseq\u001b[0m\u001b[0;34m,\u001b[0m\u001b[0;34m\u001b[0m\u001b[0;34m\u001b[0m\u001b[0m\n",
            "\u001b[0;32m/usr/local/lib/python3.10/dist-packages/transformers/tokenization_utils_base.py\u001b[0m in \u001b[0;36m<listcomp>\u001b[0;34m(.0)\u001b[0m\n\u001b[1;32m   3741\u001b[0m         \"\"\"\n\u001b[1;32m   3742\u001b[0m         return [\n\u001b[0;32m-> 3743\u001b[0;31m             self.decode(\n\u001b[0m\u001b[1;32m   3744\u001b[0m                 \u001b[0mseq\u001b[0m\u001b[0;34m,\u001b[0m\u001b[0;34m\u001b[0m\u001b[0;34m\u001b[0m\u001b[0m\n\u001b[1;32m   3745\u001b[0m                 \u001b[0mskip_special_tokens\u001b[0m\u001b[0;34m=\u001b[0m\u001b[0mskip_special_tokens\u001b[0m\u001b[0;34m,\u001b[0m\u001b[0;34m\u001b[0m\u001b[0;34m\u001b[0m\u001b[0m\n",
            "\u001b[0;32m/usr/local/lib/python3.10/dist-packages/transformers/tokenization_utils_base.py\u001b[0m in \u001b[0;36mdecode\u001b[0;34m(self, token_ids, skip_special_tokens, clean_up_tokenization_spaces, **kwargs)\u001b[0m\n\u001b[1;32m   3780\u001b[0m         \u001b[0mtoken_ids\u001b[0m \u001b[0;34m=\u001b[0m \u001b[0mto_py_obj\u001b[0m\u001b[0;34m(\u001b[0m\u001b[0mtoken_ids\u001b[0m\u001b[0;34m)\u001b[0m\u001b[0;34m\u001b[0m\u001b[0;34m\u001b[0m\u001b[0m\n\u001b[1;32m   3781\u001b[0m \u001b[0;34m\u001b[0m\u001b[0m\n\u001b[0;32m-> 3782\u001b[0;31m         return self._decode(\n\u001b[0m\u001b[1;32m   3783\u001b[0m             \u001b[0mtoken_ids\u001b[0m\u001b[0;34m=\u001b[0m\u001b[0mtoken_ids\u001b[0m\u001b[0;34m,\u001b[0m\u001b[0;34m\u001b[0m\u001b[0;34m\u001b[0m\u001b[0m\n\u001b[1;32m   3784\u001b[0m             \u001b[0mskip_special_tokens\u001b[0m\u001b[0;34m=\u001b[0m\u001b[0mskip_special_tokens\u001b[0m\u001b[0;34m,\u001b[0m\u001b[0;34m\u001b[0m\u001b[0;34m\u001b[0m\u001b[0m\n",
            "\u001b[0;32m/usr/local/lib/python3.10/dist-packages/transformers/tokenization_utils_fast.py\u001b[0m in \u001b[0;36m_decode\u001b[0;34m(self, token_ids, skip_special_tokens, clean_up_tokenization_spaces, **kwargs)\u001b[0m\n\u001b[1;32m    623\u001b[0m         \u001b[0;32mif\u001b[0m \u001b[0misinstance\u001b[0m\u001b[0;34m(\u001b[0m\u001b[0mtoken_ids\u001b[0m\u001b[0;34m,\u001b[0m \u001b[0mint\u001b[0m\u001b[0;34m)\u001b[0m\u001b[0;34m:\u001b[0m\u001b[0;34m\u001b[0m\u001b[0;34m\u001b[0m\u001b[0m\n\u001b[1;32m    624\u001b[0m             \u001b[0mtoken_ids\u001b[0m \u001b[0;34m=\u001b[0m \u001b[0;34m[\u001b[0m\u001b[0mtoken_ids\u001b[0m\u001b[0;34m]\u001b[0m\u001b[0;34m\u001b[0m\u001b[0;34m\u001b[0m\u001b[0m\n\u001b[0;32m--> 625\u001b[0;31m         \u001b[0mtext\u001b[0m \u001b[0;34m=\u001b[0m \u001b[0mself\u001b[0m\u001b[0;34m.\u001b[0m\u001b[0m_tokenizer\u001b[0m\u001b[0;34m.\u001b[0m\u001b[0mdecode\u001b[0m\u001b[0;34m(\u001b[0m\u001b[0mtoken_ids\u001b[0m\u001b[0;34m,\u001b[0m \u001b[0mskip_special_tokens\u001b[0m\u001b[0;34m=\u001b[0m\u001b[0mskip_special_tokens\u001b[0m\u001b[0;34m)\u001b[0m\u001b[0;34m\u001b[0m\u001b[0;34m\u001b[0m\u001b[0m\n\u001b[0m\u001b[1;32m    626\u001b[0m \u001b[0;34m\u001b[0m\u001b[0m\n\u001b[1;32m    627\u001b[0m         clean_up_tokenization_spaces = (\n",
            "\u001b[0;31mOverflowError\u001b[0m: out of range integral type conversion attempted"
          ]
        }
      ],
      "source": [
        "trainer.evaluate()"
      ]
    },
    {
      "cell_type": "markdown",
      "metadata": {
        "id": "nkRb7hvgPrf2"
      },
      "source": [
        "Train the model"
      ]
    },
    {
      "cell_type": "code",
      "execution_count": 21,
      "metadata": {
        "colab": {
          "base_uri": "https://localhost:8080/",
          "height": 269
        },
        "id": "qYcYcbkr7ZZD",
        "outputId": "f750d54d-a2d6-457c-c3a4-cadb7ffdd623"
      },
      "outputs": [
        {
          "data": {
            "text/html": [
              "\n",
              "    <div>\n",
              "      \n",
              "      <progress value='263' max='263' style='width:300px; height:20px; vertical-align: middle;'></progress>\n",
              "      [263/263 00:51, Epoch 1/1]\n",
              "    </div>\n",
              "    <table border=\"1\" class=\"dataframe\">\n",
              "  <thead>\n",
              " <tr style=\"text-align: left;\">\n",
              "      <th>Step</th>\n",
              "      <th>Training Loss</th>\n",
              "    </tr>\n",
              "  </thead>\n",
              "  <tbody>\n",
              "    <tr>\n",
              "      <td>50</td>\n",
              "      <td>2.393200</td>\n",
              "    </tr>\n",
              "    <tr>\n",
              "      <td>100</td>\n",
              "      <td>2.305000</td>\n",
              "    </tr>\n",
              "    <tr>\n",
              "      <td>150</td>\n",
              "      <td>2.202400</td>\n",
              "    </tr>\n",
              "    <tr>\n",
              "      <td>200</td>\n",
              "      <td>2.151100</td>\n",
              "    </tr>\n",
              "    <tr>\n",
              "      <td>250</td>\n",
              "      <td>2.177800</td>\n",
              "    </tr>\n",
              "  </tbody>\n",
              "</table><p>"
            ],
            "text/plain": [
              "<IPython.core.display.HTML object>"
            ]
          },
          "metadata": {},
          "output_type": "display_data"
        },
        {
          "data": {
            "text/plain": [
              "TrainOutput(global_step=263, training_loss=2.247692797120533, metrics={'train_runtime': 52.3177, 'train_samples_per_second': 20.07, 'train_steps_per_second': 5.027, 'total_flos': 160060774809600.0, 'train_loss': 2.247692797120533, 'epoch': 1.0})"
            ]
          },
          "execution_count": 21,
          "metadata": {},
          "output_type": "execute_result"
        }
      ],
      "source": [
        "#%%wandb\n",
        "# uncomment to display Wandb charts\n",
        "\n",
        "trainer.train()"
      ]
    },
    {
      "cell_type": "markdown",
      "metadata": {
        "id": "V3C-4SfOPssY"
      },
      "source": [
        "Evaluate after fine-tuning"
      ]
    },
    {
      "cell_type": "code",
      "execution_count": null,
      "metadata": {
        "id": "_-QyUtCRH9DO"
      },
      "outputs": [],
      "source": [
        "trainer.evaluate()"
      ]
    },
    {
      "cell_type": "markdown",
      "metadata": {
        "id": "-gSLVnGL9bol"
      },
      "source": [
        "## Evaluation\n",
        "\n",
        "---"
      ]
    },
    {
      "cell_type": "markdown",
      "metadata": {
        "id": "hDwj24cfILS6"
      },
      "source": [
        "**Generate summaries from the fine-tuned model and compare them with those generated from the original, pre-trained one.**"
      ]
    },
    {
      "cell_type": "code",
      "execution_count": 24,
      "metadata": {
        "id": "NV64-XdA_rOM"
      },
      "outputs": [],
      "source": [
        "def generate_summary(test_samples, model):\n",
        "    inputs = tokenizer(\n",
        "        test_samples[\"text\"],\n",
        "        padding=\"max_length\",\n",
        "        truncation=True,\n",
        "        max_length=encoder_max_length,\n",
        "        return_tensors=\"pt\",\n",
        "    )\n",
        "    input_ids = inputs.input_ids.to(model.device)\n",
        "    attention_mask = inputs.attention_mask.to(model.device)\n",
        "    outputs = model.generate(input_ids, attention_mask=attention_mask, max_new_tokens = 120)\n",
        "    output_str = tokenizer.batch_decode(outputs, skip_special_tokens=True)\n",
        "    return outputs, output_str\n",
        "\n",
        "\n",
        "model_before_tuning = AutoModelForSeq2SeqLM.from_pretrained(model_name)\n",
        "\n",
        "test_samples = validation_data_txt.select(range(16))\n",
        "\n",
        "summaries_before_tuning = generate_summary(test_samples, model_before_tuning)[1]\n",
        "summaries_after_tuning = generate_summary(test_samples, model)[1]"
      ]
    },
    {
      "cell_type": "code",
      "execution_count": 25,
      "metadata": {
        "colab": {
          "base_uri": "https://localhost:8080/"
        },
        "id": "D7IPtJLjCcmS",
        "outputId": "2501bd03-f83c-4323-9abd-d396632245a6"
      },
      "outputs": [
        {
          "name": "stdout",
          "output_type": "stream",
          "text": [
            "  Id  Summary after                                                                                                                                                                                        Summary before\n",
            "----  ---------------------------------------------------------------------------------------------------------------------------------------------------------------------------------------------------  --------------------------------------------------------------------------------------------------------------------------------------------------------------------------------------------------------------\n",
            "   0  Le chef de l'Etat a condamné les violences de manifestants à l'issue de l'intrusion de syndicalistes à l'Assemblée nationale.                                                                        Le chef de l'Etat a condamné avec la plus grande fermeté les violences à l'encontre de syndicalistes.\n",
            "   1  Un violent impact de foudre s'est abattu mardi 4 juin sur le stade de Saint-Nicolas-lez-Arras.                                                                                                       Le maire de la commune évoque \"un coup de canon\" et évoque \"un coup de canon\".\n",
            "   2  Le préfet de police de Paris a alerté sur la radicalisation islamiste au sein des forces de l'ordre.                                                                                                 Le jeune homme de 22 ans a été tué par balles dans la nuit de vendredi à samedi à la préfecture de police de Paris.\n",
            "   3  Le défilé de l'OTAN pour les soldats français a été marqué par plusieurs annonces de recrutement.                                                                                                    Comme le révèle BFMTV, le ministère des Armées a dévoilé le traditionnel défilé militaire du 14 juillet.\n",
            "   4  Le secrétaire général de la Chambre des métiers a été hospitalisé pour une raison de santé, rapporte Le Parisien.                                                                                    Yann Dubosc est en incapacité de travailler à la Chambre des métiers de la région Auvergne-Rhône-Alpes. Il est censé ne pas le faire.\n",
            "   5  Le chef de l'État a dénoncé l'ultimatum de sept pays européens, dont la France, qui ont refusé de reconnaître le président vénézuélien Juan Guaido comme \"président en charge\".                      Les pays européens ont reconnu lundi le président vénézuélien comme \"président en charge\".\n",
            "   6  Selon l'autopsie, l'homme est décédé de huit à dix coups de couteau.                                                                                                                                 Le suspect, qui aurait été arrêté en 2011, a été retrouvé gisant dans son sang à la tour de contrôle de l'aéroport de Bâle-Mulhouse, en Suisse.\n",
            "   7  La Nouvelle-Zélande a annoncé mercredi qu'elle se retirait du scrutin pour se tenir à la mi-septembre, une décision qui a douché les partis au gouvernement conservateur de Nouvelle-Zélande.        La Première ministre néo-zélandaise Jacinda Ardern a annoncé mercredi qu'elle envisageait de reporter les élections du 19 septembre pour se donner le temps d'apprécier l'évolution de la situation sanitaire.\n",
            "   8  Le président américain Donald Trump a appelé mercredi à \"dénucléer d'une seule voix\" les deux fusillades qui ont fait neuf morts dans la nuit de samedi à dimanche dans le sud de l'Etat de l'Ohio.  Le président américain Donald Trump a appelé mercredi à la condamnation \"rapide\" des auteurs des fusillades qui ont fait neuf morts dans le nord-est des Etats-Unis.\n",
            "   9  20 Minutes et 20 Minutes ont mis en lumière deux sociétés françaises qui ont mis en place un masque de protection pour les soignants.                                                                20 Minutes révèle que deux entreprises toulousaines travaillent en coulisses pour mettre au point un masque de protection destiné au personnel soignant.\n",
            "  10  Jacques Brel est décédé dans la nuit de lundi à mardi dans le Lot. Un sculpteur, une peintre et un paysagiste ont décidé de réaliser un portrait de l'ancien chanteur, dans un champ.                Un sculpteur, une peintre et un paysagiste ont pour projet de réaliser un portrait de Jacques Brel, décédé le 9 octobre 1978.\n",
            "  11  La Nasa a lancé mardi un appel à la société civile pour que les humains ne deviennent pas astronautes pour coloniser la planète rouge, mais les scientifiques ont du mal à y croire.                 La Nasa a lancé jeudi sa première mission habitée vers Mars, une mission qui a coûté la vie à six astronautes, mais qui a été largement éclipsée par les succès des sociétés SpaceX et Tesla.\n",
            "  12  Le ministre français des Affaires étrangères Jean-Yves Le Drian a écarté tout nouveau report du Brexit dans les circonstances actuelles.                                                             Le ministre français des Affaires étrangères a exclu tout nouveau report du Brexit dans les circonstances actuelles.\n",
            "  13  Le gouvernement a annoncé mercredi que le plafond des tickets restaurant serait réduit de moitié pour les employés de l'hôtellerie et de la restauration.                                            Le décret d'application de cette mesure n'a pas encore été publié au Journal officiel relève BFMTV.\n",
            "  14  La présidente de la région le-de-France Mobilités a annoncé lundi 20 janvier un nouvel abonnement pour les enfants de 4 à 11 ans.                                                                    La présidente de la région le-de-France a annoncé lundi 20 janvier la mise en place d'un abonnement \"junior\" permettant aux enfants de 4 à 11 ans d'emprunter tous les transports en commun de la région.\n",
            "  15  La femme a été retrouvée au fond de l'eau par des plongeurs de la police.                                                                                                                            La femme a été retrouvée au fond de l'eau par des plongeurs de la police.\n",
            "\n",
            "Target summaries:\n",
            "\n",
            "  Id  Target summary\n",
            "----  --------------------------------------------------------------------------------------------------------------------------------------------------------------------------------------------------------------------------------------------------------------------------------------------------------------------------------------------------------------------------------------------------------------------------------------------------------------------------------------------------------------------------------------------------------------------------------------------------------------------------------------\n",
            "   0  \"La justice passera, je l'espère, le plus vite possible\", a lancé le président ce samedi après l'intrusion violente de syndicalistes dans les locaux de la CFDT à Paris, ce vendredi 17 janvier.\n",
            "   1  Que s'est-il passé mardi soir au stade de Saint-Nicolas-lez-Arras ? La foudre s'est abattue sur plusieurs adolescents qui jouait au football alors que selon plusieurs témoins, \"rien ne laissait présager qu'un coup de foudre d'une telle intensité pourrait s'abattre ainsi\".\n",
            "   2  Dix jours après l'attentat de la préfecture de police de Paris, Richard Lizurey, le directeur général de la gendarmerie nationale, a annoncé lundi qu'une \"quinzaine de personnels\" étaient actuellement sous surveillance au sein de sa force armée.\n",
            "   3  2018 est à marquer d'une pierre blanche pour un commandement de l'année française. Comme le révèle un article du site de BFMTV, des cybercombattants défileront en effet pour la première fois sur les Champs-Elysées le jour de la fête nationale.\n",
            "   4  D'un côté, le maire UDI de la commune de Bussy-Saint-Georges (Seine-et-Marne) bénéficie d'un arrêt de travail depuis plusieurs mois, et de l'autre, il continue de mener à bien ses activités professionnelles comme à l'accoutumée, révèle Le Parisien dans son édition locale du mardi 17 octobre.Depuis le mois de juin, Yann Dubosc, secrétaire général de la Chambre des métiers de Seine-Saint-Denis, ne s'est pas présenté sur son lieu de travail et pour cause : il est en arrêt maladie. Sauf que dans le même temps, l'homme a continué d'exercer son mandat de maire à Bussy-Saint-Georges, une ville de 25.000 habitants.\n",
            "   5  Lundi, plusieurs pays, dont la Grande-Bretagne et la France, ont reconnu Juan Guaido comme président du Venezuela. Jean-Luc Mélenchon a de son côté apporté son soutien à Nicolas Maduro.\n",
            "   6  Introuvable depuis 2011, il est soupçonné du meurtre d'un contrôleur aérien de l'aéroport de Bâle-Mulhouse.\n",
            "   7  La Première ministre néo-zélandaise Jacinda Ardern réfléchissait mercredi à un possible report des élections de septembre en raison de la résurgence, encore modeste, de l'épidémie de Covid-19, les experts s'échinant à comprendre l'origine des nouveaux cas dans un pays exempt de contaminations locales depuis mai.\n",
            "   8  Le président Donald Trump a condamné lundi l'idéologie raciste du suprémacisme blanc, suspectée d'être à l'oeuvre dans l'une des deux fusillades ayant endeuillé les Etats-Unis ce week-end, tout en évitant de mettre l'accent sur la lutte contre les armes à feu.\n",
            "   9  20 Minutes révèle l'initiative admirable entre Airbus et Décathlon. Un masque de plongée est en train d'être revisité pour aider les soignants dans la lutte contre l'épidémie de coronavirus en France.\n",
            "  10  Pour célébrer les 40 ans de la mort de Jacques Brel, trois artistes du Lot ont décidé de dessiner sur un champ du village de Prayssac un portrait éphémère du chanteur. Un projet qui ne plaît pas à tout le monde, comme le révèle La Dépêche.\n",
            "  11  Le 11 mai 1990, le président américain George Bush annonçait la prochaine frontière de l'exploration spatiale: un homme sur Mars -- avant le 20 juillet 2019, cinquantième anniversaire du premier pas sur la Lune.\n",
            "  12  Alors que les députés britanniques veulent repousser de trois mois le Brexit, initialement prévu au 31 octobre, le ministre français des Affaires étrangères a estimé dimanche matin qu'il n'avait pas suffisamment d'éléments en main pour prendre une décision.\n",
            "  13  Le gouvernement avait annoncé un doublement du plafond de paiement pour de la réouverture des restaurants, mais le décret d'application de la mesure n'a pas encore été publié.\n",
            "  14  Cet abonnement permettra aux enfants âgés de 4 à 11 ans de se déplacer dans toute la région parisienne pour un prix modique. L'abonnement devrait être mis en place dès la prochaine rentrée scolaire.\n",
            "  15  Un homme se trouvant sur le même bateau que la victime est parvenu, samedi, à rejoindre à la nage une autre embarcation d'où il a lancé \"deux fusées de détresse\".\n",
            "\n",
            "Source documents:\n",
            "\n",
            "  Id  Document\n",
            "----  -------------------------------------------------------------------------------------------------------------------------------------------------------------------------------------------------------------------------------------------------------------------------------------------------------------------------------------------------------------------------------------------------------------------------------------------------------------------------------------------------------------------------------------------------------------------------------------------------------------------------------------------------------------------------------------------------------------------------------------------------------------------------------------------------------------------------------------------------------------------------------------------------------------------------------------------------------------------------------------------------------------------------------------------------------------------------------------------------------------------------------------------------------------------------------------------------------------------------------------------------------------------------------------------------------------------------------------------------------------------------------------------------------------------------------------------------------------------------------------------------------------------------------------------------------------------------------------------------------------------------------------------------------------------------------------------------------------------------------------------------------------------------------------------------------------------------------------------------------------------------------------------------------------------------------------------------------------------------------------------------------------------------------------------------------------------------------------------------------------------------------------------------------------------------------------------------------------------------------------------------------------------------------------------------------------------------------------------------------------------------------------------------------------------------------------------------------------------------------------------------------------------------------------------------------------------------------------------------------------------------------------------------------------------------------------------------------------------------------------------------------------------------------------------------------------------------------------------------------------------------------------------------------------------------------------------------------------------------------------------------------------------------------------------------------------------------------------------------------------------------------------------------------------------------------------------------------------------------------------------------------------------------------------------------------------------------------------------------------------------------------------------------------------------------------------------------------------------------------------------------------------------------------------------------------------------------------------------------------------------------------------------------------------------------------------------------------------------------------------------------------------------------------------------------------------------------------------------------------------------------------------------------------------------------------------------------------------------------------------------------------------------------------------------------------------------------------------------------------------------------------------------------------------------------------------------------------------------------------------------------------------------------------------------------------------------------------------------------------------------------------------------------------------------------------------------------------------------------------------------------------------------------------------------------------------------------------------------\n",
            "   0  \"Ces violences sont une honte pour notre démocratie\", a déclaré vendredi sur LCI Emmanuel Macron à propos de l'intrusion dans l'après-midi d'opposants à la réforme des retraites au siège de la CFDT. \"Je condamne avec la plus grande fermeté ce qui s'est passé cet après-midi. J'ai appelé le secrétaire général de la CFDT Laurent Berger, les violences à l'égard de syndicalistes, quelle que soit d'ailleurs les confédérations syndicales, sont une honte pour notre démocratie et inacceptables\", a déclaré le chef de l'Etat.\"Dans une démocratie, les idées peuvent s'échanger\"\"Je veux apporter toute ma solidarité non seulement à cette confédération syndicale mais à ses salariés et ses engagés qui ont subi ces agressions. La justice passera, je l'espère, le plus vite possible\", a ajouté M. Macron.\"Il est clair que le débat démocratique n'est possible que dans le calme et dans le respect (...) Dans une démocratie, les idées peuvent s'échanger. On vote pour choisir ses dirigeants, ce sont nos représentants qui votent nos lois. Cette liberté, elle requiert le respect, elle requiert la décence, elle doit condamner tous les discours de haine et de brutalité\", a-t-il encore dit.Des opposants à la réforme des retraites se sont introduits \"violemment\" vendredi dans les locaux de la CFDT à Paris, où ils ont \"agressé verbalement et physiquement des salariés\", a dénoncé dans un tweet le secrétaire général de la confédération, Laurent Berger.De nombreux responsables politiques de la majorité comme de l'opposition ont condamné cette intrusion et exprimé leur solidarité à la CFDT.\"Sans syndicats, pas de démocratie sociale. Aucun désaccord ne peut se régler dans l'intimidation ou la violence\", a insisté la porte-parole du gouvernement Sibeth Ndiaye.\n",
            "   1  Plusieurs adolescents, membres d'un club de football, ont été frappés par la foudre mardi 4 juin alors qu'ils s'entraînaient au stade de Saint-Nicolas-lez-Arras (Pas-de-Calais). \"Un violent impact de foudre s'est abattu à 18h30\" sur le stade, \"alors qu'un groupe d'adolescents membres du club local s'entraînait avec (son) éducateur\", a indiqué à l'AFP la préfecture du Pas-de-Calais. L'un des jeunes a été transporté à l'hôpital alors que son pronostic vital était engagé; Le maire de la commune de Saint-Nicolas-lez-Arras a témoigné mercredi au micro de RTL : \"Il y avait à peu près 25 jeunes sur le terrain, qui se sont écroulés. Et deux d'entre eux sont restés sur le terrain\". \"Une maman qui était dans les tribunes a prodigué tout de suite les premiers massages cardiaques. Et les pompiers sont arrivés immédiatement\", a-t-il poursuivi. Auprès de l'AFP, le maire de la commune évoque \"un coup de canon\". \"Cette foudre est tombée d'un seule coup\"Un tel drame aurait-il pu être évité ? Alain Cayet s'étonne auprès de la radio privée de l'enchaînement des événements. \"Il ne pleuvait pas du tout et cette foudre est tombée comme ça d'un seul coup\", raconte l'édile. C'est ce qu'assure également un bénévole du club de football interrogé par France 3, rien ne laissait présager ce grave accident : \"le temps était tout à fait normal, rien ne laissait présager qu'un coup de foudre d'une telle intensité pourrait s'abattre ainsi sur ces jeunes, il n'y avait ni vent particulier, ni pluie, ni tonnerre. Rien n'était prévisible (...) Quand il y a vraiment de l'orage, on rentre, mais là, on ne l'a pas vu arriver\". Selon une source médicale au sein du centre hospitalier, le jeune blessé \"a été victime d'un arrêt cardiaque, a été ranimé par le SAMU d'Arras, puis transféré à Lille en réanimation pédiatrique\". Selon France 3 Hauts-de-France, l'état de santé du garçon évolue favorablement ce mercredi.\n",
            "   2  C'est l'une des conséquences inévitables de l'attentat du 3 octobre dernier à la préfecture de police de Paris : la question de la radicalisation islamiste au sein des forces de l'ordre. Adjoint administratif à la préfecture de police depuis 2003, Mickaël Harpon, converti à l'islam il y a une dizaine d'années, est passé à l'acte et s'en est pris à des collègues seize ans plus tard. Un parcours qui interpelle forcément et qui fait craindre la présence d'autres profils du même type dans la police ou la gendarmerie.Ainsi, la semaine dernière, après une note interne du préfet de police Didier Lallement demandant de signaler \"immédiatement et directement\" aux supérieurs hiérarchiques, \"toute détection de signes d'une possible radicalisation d'un agent\" - ce qui n'a probablement pas été effectué efficacement dans le cas de Mickaël Harpon, ce dernier ayant notamment légitimé auprès de collègues l'attentat contre Charlie Hebdo en 2015 - la police a-t-elle provisoirement désarmé deux de ses membres. Et, selon le ministère de l'Intérieur, six ont été révoqués depuis 2015.\"A la fois des candidats et des personnels de la gendarmerie, de tous statuts\"Du côté de la gendarmerie, la vigilance est là aussi de mise. Ainsi, lundi matin, sur Cnews, Richard Lizurey, le directeur général de la gendarmerie nationale, a révélé qu'une vingtaine de personnes ont été écartées depuis six ans : \"Depuis 2013, nous avons mis en place un dispositif, sous l'autorité du ministre de l'Intérieur, qui nous a permis d'écarter une vingtaine de personnes qui manifestement présentaient des signes de radicalisation. Il y avait à la fois des candidats et des personnels de la gendarmerie, de tous statuts.\" A l'heure actuelle, le directeur général de la gendarmerie nationale a également précisé que des surveillances étaient toujours en cours : \"Nous sommes toujours vigilants, nous surveillons actuellement une quinzaine de personnels de manière à ce qu'ils ne puissent pas aller au-delà dans une action qu'ils pourraient potentiellement mener. Certains savent qu'ils sont surveillés, d'autres ne le savent pas.\"\n",
            "   3  Des petits nouveaux feront leur apparition samedi 14 juillet. Pour la première fois, plusieurs dizaines de cybercombattants se sont portés volontaires afin de se rendre sur les Champs-Elysées. « Ce défilé constitue une importante reconnaissance pour les cybercombattants », a affirmé le ministère des Armées à BFMTV. « Deux mois de préparation, à raison de deux entraînements par semaine, ont été nécessaires pour s'y préparer. »Comme l'explique un article du site de BFMTV, les cybercombattants sont sous le commandement de cyberdéfense, le ComCyber, une entité créée en septembre 2017 afin de protéger la France contre des attaques informatiques. Ses 3 400 cybercombattants protègent les infrastructures les plus sensibles du pays et assurent la protection des réseaux du Ministère des armées, en France comme à l'extérieur, pour les forces projetées à l'étranger. 4400 cybercombattants d'ici 2019Le ministère des Armées est de plus en plus intéressé par leurs profils. Comme le rappelle l'article de BFMTV, une campagne de recrutement a ainsi été lancée au début de l'année 2018 afin de débaucher de nouveaux cybercombattants. Pour se vendre, le ComCyber met notamment en avant « des possibilités de carrières » et « des postes militaires ou civils. » Selon les informations de BFMTV, le commandement de cyberdéfense devrait compter 4400 hommes dans ses rangs d'ici 2019. De quoi laisser présager que ce premier défilé est loin d'être le dernier.\n",
            "   4  Une situation qui agace son employeur, rapporte Le Parisien. DES PHOTOS D'INAUGURATIONS POSTÉES SUR FACEBOOKL'employeur s'interroge sur l'état de santé réel de son secrétaire général. Alors qu'il est en incapacité de travailler à la Chambre des métiers, Yann Dubosc continue d'intervenir dans sa ville. Sur Facebook, \"il n'arrêt(e) pas de mettre des films et des photos de son activité de maire : les inaugurations, les fêtes, les réunions publiques. Mais il est censé ne pas travailler. Il avait l'air en pleine forme alors que la fonction d'élu est particulièrement stressante\", explique Patrick Toulmet, le président de la Chambre des métiers. \"À la Chambre, il occupe un poste stratégique puisqu'il est responsable du personnel. Résultat : cela bloque tous les recrutements et les avancements\", a poursuivi l'employeur. HYPERTENSION\"Je souffre d'hypertension\", s'est défendu le maire UDI. \"C'est un phénomène privé sur lequel je n'ai rien de spécial à dire, si ce n'est que c'est un petit problème de santé qu'il faut que je règle. Dans ce cas, comment peut-il mener à bien son mandat d'élu local ? Parce qu'il n'a pas à subir le trajet jusqu'à Bobigny, son lieu de travail, a rétorqué Yann Dubosc au Parisien. \"Aujourd'hui, je ne passe que quelques heures par jour en mairie. C'est juste à côté de chez moi donc c'est beaucoup plus facile de m'y rendre.\" Dans ces conditions, la Chambre des métiers demande à ce que le salarié utilise sa voiture de fonction. Dernièrement, l'édile a été convoqué par lettre recommandée pour s'expliquer devant la Chambre des métiers, indique son président. \"Depuis quatre mois, on a aucune nouvelle de lui malgré les courriers. On est obligé de lui adresser des courriers en mairie de Bussy pour espérer le joindre\", a expliqué Patrick Toulmet au Parisien.\n",
            "   5  Le président vénézuélien Nicolas Maduro a rejeté dimanche l'ultimatum de sept pays européens, dont la France, lui demandant la tenue d'une nouvelle élection. S'il n'acceptait pas, ces pays avaient promis de reconnaître son opposant Juan Guaido comme \"président en charge\". C'est ce que Londres, Paris ou encore Madrid ont annoncé lundi 4 février. \"Les Vénézuéliens ont le droit de s'exprimer librement et démocratiquement. La France reconnaît Juan Guaido comme président en charge pour mettre en œuvre un processus électoral. Nous soutenons le groupe de contact, créé avec l'UE, dans cette période de transition\", a estimé Emmanuel Macron. Le chef de file de la France insoumise (LFI) Jean-Luc Mélenchon a réagi sur Twitter à l'annonce du chef de l'État. \"Ce n'est pas la France qui soutient les putschistes au Venezuela. C'est seulement Macron. Résistez ! Avec L'ONU nous disons : Nicolas Maduro est le président du Venezuela. Paix et liberté pour le Venezuela !\", a écrit le député des Bouches-du-Rhône. Pour Manon Aubry, tête de liste de LFI aux élections européennes, \"ni l'un ni l'autre\" de Nicolas Maduro ou Juan Guaido, \"n'est en mesure d'organiser des élections\". \"Des pays tiers ont proposé une médiation. L'ONU a proposé une médiation, je pense que c'est cette piste qui doit être privilégiée\", a-t-elle déclaré lundi matin sur BFMTV. \"Nous considérons que Juan Guaido a la légitimité pour provoquer des élections présidentielles\", avait déclaré plus tôt dans la matinée le ministre des Affaires étrangères Jean-Yves Le Drian, au micro de France Inter. \"Il faut sortir de cette crise par une élection présidentielle complètement légitime\", avait-il ajouté.\n",
            "   6  Karim Ouali vit-il à Hong-Kong ? Ce Français, soupçonné du meurtre d'un contrôleur aérien de l'aéroport de Bâle-Mulhouse le 27 avril 2011, était introuvable depuis cette date. Il pourrait se trouver à Hong Kong : il y a été repéré en 2011, \"puis a été arrêté pour détention d'un faux passeport en 2014 et l'on peut suivre sa trace jusqu'en 2016\", a expliqué la procureure de la République de Mulhouse, Edwige Roux-Morizot. \"On peut penser qu'il est toujours à Hong Kong où il pourrait vivre clandestinement\". Son passeport falsifié a été récupéré par les autorités hongkongaises, ajoute-t-elle. Les autorités françaises n'ont été prévenues \"que plusieurs années plus tard\" de sa localisation, et une commission rogatoire internationale a été émise en 2018.Alors contrôleur aérien stagiaire à Bâle-Mulhouse, Karim Ouali, qui aurait aujourd'hui 43 ans, a été rapidement soupçonné du meurtre de Jean Meyer, 34 ans, découvert gisant dans son sang au pied d'un escalier menant à la tour de contrôle de l'aéroport. Selon l'autopsie, l'homme est décédé de huit à dix coups de couteau. Le suspect avait été vu par des témoins quittant précipitamment l'aéroport après le meurtre avant de disparaître. L'Etat avait été condamné pour faute dans cette affaire\"Je suis satisfait que cet individu soit vivant et qu'il soit localisé\", a déclaré Me Thierry Moser, avocat de la famille de Jean Meyer reçue jeudi par le juge d'instruction en présence de la procureure. \"C'est une satisfaction évidente mais nous restons dans l'expectative et la prudence\", a ajouté l'avocat, espérant le \"concours actif de l'autorité judiciaire de Hong Kong\" pour l'appréhender et l'extrader.Si ce n'était pas le cas dans les mois qui viennent, il pourrait tout de même être jugé devant les assises en 2020, \"dans le cadre d'un procès en défaut criminel\", a indiqué la procureure de Mulhouse, évoquant \"des indices très graves et très concordants\" à l'encontre de Karim Ouali. \"Les éléments qu'on a au dossier justifieraient évidemment, même sans qu'il soit entendu, un renvoi devant une cour d'assises\", a poursuivi Edwige Roux-Morizot. Présenté comme dépressif, perturbé psychologiquement et se sentant persécuté par ses collègues, Karim Ouali était en arrêt de travail mais avait conservé ses badges et les clés sécurisées lui permettant d'accéder à la tour de contrôle, ce qui avait valu à l'Etat d'être condamné pour faute en mai. Se disant victime de racisme, il avait envoyé le jour du drame un courrier délirant et menaçant à ses collègues de la direction générale de l'aviation civile.\n",
            "   7  Les autorités sanitaires ont été promptes à ordonner le confinement d'Auckland, la plus grande ville du pays, où quatre cas probables de coronavirus ont été recensés, en plus des quatre qui avaient été annoncés mardi. Ce sont au total 1,5 million d'habitants qui sont tenus de rester chez eux pendant trois jours, et des millions d'autres qui s'inquiètent du retour du Covid-19 dans un pays qui, auparavant, n'avait plus enregistré de contamination locale pendant 102 jours.La Nouvelle-Zélande avait été érigée en exemple de bonne gestion de la crise sanitaire.Dans ce contexte, Mme Ardern a averti mercredi qu'elle consultait la commission électorale sur l'opportunité de reporter les élections du 19 septembre si la nouvelle vague épidémique n'était pas contenue.- Campagne contrariée -Le Parlement était légalement censé être dissous mercredi pour permettre la tenue du scrutin dans les temps. Mais Mme Ardern a annoncé qu'elle reportait à lundi cette dissolution pour se donner le temps d'apprécier l'évolution de la situation sanitaire.\"Il est à ce stade trop tôt pour prendre une décision mais cela donne de la souplesse, si nécessaire\", a déclaré la dirigeante travailliste, qui est la grande favorite des sondages pour les élections.La cheffe du Parti national Judith Collins, à la tête de l'opposition conservatrice, a cependant jugé qu'il fallait avoir des certitudes quant à la tenue ou non des élections, en appelant à les reporter à fin novembre, voire à l'an prochain.\"Il n'est tout simplement pas raisonnable de dire que nous aurons des élections équitables alors que les partis d'opposition ne sont pas libres de faire campagne\", a-t-elle dit en observant que son parti avait dû annuler le meeting de lancement de sa campagne prévu ce week-end à Auckland.La Nouvelle-Zélande a été érigée par l'Organisation mondiale de la santé (OMS) en modèle de gestion de la crise sanitaire. Le pays, qui a enregistré 22 décès sur une population de cinq millions d'habitants, n'avait pas eu de cas de transmission à l'intérieur de son territoire depuis le 1er mai.- Tests dans une chambre froide -L'origine des cas qui viennent d'être découverts est cependant inconnue.Le directeur général de la Santé Ashley Bloomfield a précisé qu'une des personnes contaminées travaillait dans une chambre froide d'Auckland réceptionnant du fret en provenance de l'étranger, et qu'une hypothèse de travail était l'arrivée du virus avec ces marchandises.\"Nous savons que le virus peut survivre dans des environnements réfrigérés pendant quelque temps\", a-t-il dit en révélant que des tests avaient été conduits dans cette chambre froide.Si cette hypothèse est la bonne, l'exemple néo-zélandais pourrait avoir de profondes implications pour le commerce mondial, déjà malmené par six mois de pandémie.M. Bloomfield s'est voulu rassurant sur la gestion de la résurgence de l'épidémie: \"Nous avons déjà vécu cette situation, nous nous en sortirons si nous travaillons ensemble.\"En attendant, les supermarchés d'Auckland ont de nouveau été le théâtre de scènes de panique, alors que de longues files d'attente se formaient aux abords des points de dépistage et que des policiers portant un masque tenaient des points de contrôle sur les routes principales pour veiller au respect des nouvelles consignes.Les autorités ont aussi pris la décision drastique de fermer aux visiteurs les maisons de retraite, Mme Ardern voyant dans cette mesure la meilleure façon de protéger les personnes âgées.Cette résurgence du virus est venue interrompre des semaines d'une vie très proche de la normalité, alors que stades, salles de spectacles et restaurants pouvaient accueillir le public.Une interrogation planait sur la tenue du dernier match du championnat de rugby entre les Auckland Blues et les Canterbury Crusaders, théoriquement prévu dimanche à l'Eden Park, à guichets fermés devant 43.000 spectateurs.\n",
            "   8  Le milliardaire républicain, dans une intervention depuis la Maison Blanche, a préféré insister sur le rôle néfaste que jouerait selon lui internet dans la radicalisation de personnes souffrant de troubles mentaux. Il a par ailleurs qualifié de \"crimes contre l'humanité\" les deux attaques qui ont alimenté la litanie des tragédies dues aux armes individuelles dans un pays où celles-ci pullulent. \"Notre nation doit condamner d'une seule voix le racisme, le sectarisme, et le suprémacisme blanc\", a déclaré M. Trump dans une courte allocution télédiffusée. Il s'exprimait après qu'un homme blanc a tué samedi 20 personnes dans un hypermarché d'El Paso, ville texane à forte majorité hispanique. Un autre tireur, aux mobiles pour l'instant inconnus, a fait neuf morts dimanche dans l'Etat de l'Ohio. Donald Trump a par ailleurs appelé à l'exécution \"rapide\" des auteurs de ces fusillades. \"J'ordonne également au ministère de la Justice de proposer une loi garantissant que ceux qui commettent des crimes motivés par la haine et des tueries de masse soient passibles de la peine de mort et que cette peine capitale soit appliquée rapidement, avec détermination et sans des années de délai inutile\", a-t-il déclaré.\"Nous devons arrêter l'idéalisation de la violence dans notre société\", a-t-il insisté, estimant qu'il était \"trop facile aujourd'hui pour les jeunes en difficulté de s'entourer d'une culture célébrant la violence\", notamment à travers des jeux vidéo selon lui \"atroces et sinistres\". L'influence que joueraient les maladies mentales ou bien les jeux vidéos dans le déclenchement de carnages par armes à feu est mise en doute par de nombreux experts. Les épidémiologistes pensent ainsi que la vaste majorité des personnes atteintes de troubles psychiques ne sont pas violentes.Quelques heures avant une allocution attendue, Donald Trump avait pourtant proposé d'encadrer davantage les ventes d'armes à feu aux Etats-Unis, tout en suggérant de lier cette mesure à la réforme migratoire qu'il appelle de ses vœux. \"Nous ne pouvons pas laisser ceux qui sont morts à El Paso, au Texas, et à Dayton, dans l'Ohio, mourir en vain\", a-t-il écrit sur Twitter. \"De même pour ceux ayant été sérieusement blessés. Nous ne pourrons jamais les oublier, ainsi que les nombreux autres avant eux.\" \"Les républicains et les démocrates doivent se rassembler et obtenir des vérifications d'antécédents robustes, peut-être en couplant cette loi à une réforme migratoire désespérément nécessaire\", a déclaré le président des Etats-Unis.Le président des Etats-Unis a également visé une des ses cibles de prédilection : les médias. Ces derniers ont \"contribué à la colère et la rage qui s'est développée dans les dernières années\", tweete t-il.Samedi matin à El Paso, ville à majorité hispanique près de la frontière mexicaine, un homme blanc de 21 ans a ouvert le feu avec un fusil d'assaut dans un centre commercial bondé, faisant 20 morts et 26 blessés avant de se rendre. Treize heures plus tard, à Dayton (Ohio, nord-est), un autre assaillant, âgé de 24 ans a abattu neuf personnes et fait 27 blessés, dont sa propre sœur, avant d'être tué par des policiers moins d'une minute après avoir ouvert le feu. Le président américain doit prononcer une allocution à 10h (heure locale), selon la Maison Blanche.\n",
            "   9  En période de pandémie de coronavirus, tout le monde se relève les manches pour essayer d'apporter sa pierre à l'édifice et tenter de freiner la propagation du virus. Selon les informations de 20 Minutes, Airbus et Décathlon s'activent en coulisses pour réussir à mettre au point un masque de protection novateur destiné au personnel soignant. Pour cela, les deux entreprises se basent sur le masque de plongée Easybreath, avec un tuba intégré. Les ingénieurs d'Airbus s'appliquent donc à utiliser cette fonctionnalité pour y intégrer des filtres antiviraux. Cette innovation se base sur les travaux d'une start-up italienne, basée près de la région de Brescia.« Nous avons rencontré une équipe de la clinique Pasteur (à Toulouse) pour comprendre leurs besoins et leur montrer notre prototype d'adaptateur. Et après validation, nous n'avons pas hésité à leur venir en aide en réalisant ces pièces en impression 3D grâce à la collaboration avec l'Artilect FabLab de Toulouse et des makers locaux », explique Vanessa Crespo, ingénieur propulsion R et T Airbus et également membre de l'association humanitaire Airbus Humanity Lab.Une nouveauté qui profite aux soignants et aux malades« Ce masque, tel qu'il existe, protège le visage, mais pas l'air que l'on inspire. Or, nous sommes en première ligne, notamment lors des manœuvres d'intubation où la charge virale est très importante. Il fallait donc avoir des filtres qui isolent les praticiens de l'air pollué pour que ces actes soient réalisés en toute sécurité, que ce soit pour le patient ou pour nous », souligne Madeleine Croute-Bayle, médecin anesthésiste-réanimateur, à 20 Minutes. « On les a testés, et ça marche très bien. » Une fois approuvés par les soignants de la clinique, ces masques doivent désormais attendre de recevoir le feu vert des autorités sanitaires. Une vague de production industrielle va normalement voir le jour cette semaine, elle pourrait accoucher de 25 000 exemplaires destinés aux établissements médicaux à qui Décathlon a fourni ce type de masque.Déjà muni de 150 d'entre eux, la clinique Pasteur de Toulouse envisage d'utiliser ce matériel pour ses soignants, mais aussi pour les patients. Cet outil pourrait prochainement être équipé d'une valve étanche où l'oxygène, porté par le consortium, pourrait être apporté à haut débit auprès de malades. Une innovation qui permettrait d'éviter l'intubation, méthode jugée agressive dans certains cas.\n",
            "  10  C'est d'une façon plutôt originale que trois artistes du Lot ont décidé de rendre hommage à Jacques Brel, décédé le 9 octobre 1978, il y a bientôt 40 ans. Un sculpteur, une peintre et un paysagiste ont pour projet de dessiner sur un champ un portrait du chanteur de 110m de long sur 60m de large. L'oeuvre aussi appelée \"land-art\"ne sera visible que depuis la commune de Bélaye qui culmine à 100m d'altitude.Si les trois artistes, Jacques Cohen, Anne Schlesser et Vincent Cavalié, ont déjà réussi à récolter 3 000 euros grâce au financement participatif, leur projet fait polémique dans la commune de Prayssac. Un collectif d'habitants baptisé \"Maniserre\" dénonce une pollution visuelle. Une pétition a d'ailleurs été lancée contre la réalisation de ce \"land-art\". \"S'il se réalise, l'œil butera éternellement sur ce tag géant. Et pourquoi Jacques Brel ? Il chante le Plat Pays qui est le sien, à l'opposé de notre pays de collines et de causses\", s'indigne le collectif dans les colonnes de la Dépêche.Le portrait éphémère de Jacques Brel va être réalisé \"avec des plantations de trèfles et de gazon, associé à de la paille blanchie à la chaux agricole\", précisait en début février le site actu.fr. La région Occitanie, le Conseil départemental du Lot et les mairies de Prayssac et de Bélaye ont déjà apporté leur soutien au projet, qui a déjà commencé à prendre forme. Si tout se passe comme prévu, le portrait du chanteur devrait être visible dès le mois de juin, avant de disparaître à la fin de l'été.\n",
            "  11  L'engagement a évidemment fait long feu, et les promesses similaires de trois de ses successeurs (Bush fils, Barack Obama et Donald Trump) n'ont donné naissance à aucun programme concret, ce qui illustre le paradoxe de la conquête humaine de la planète rouge: promise car faisable, mais toujours remisée au profit des robots, moins chers et moins risqués.\"J'ai dû assister à 10.000 présentations sur la façon d'envoyer des humains sur Mars\", dit à l'AFP G. Scott Hubbard, à Stanford, ancien de la Nasa. \"Mais personne depuis Kennedy n'a été capable de mettre les sommes conséquentes\".Les experts en conviennent: les grands défis technologiques et de santé pour cette mission, qui durerait deux ou trois ans, sont à peu près résolus.Pour le lancement, il faudra une fusée très puissante, ce que la Nasa sait faire depuis les années 1960. Aujourd'hui les nouvelles sociétés SpaceX, d'Elon Musk, et Blue Origin, du patron d'Amazon Jeff Bezos, construisent des lanceurs lourds qui seront capables d'envoyer des dizaines de tonnes vers la planète rouge.- Seuls et loin -Pour les sept mois de transit, vingt ans d'occupation de la Station spatiale internationale ont rassuré les scientifiques sur les risques posés par les radiations et l'apesanteur, comme la perte de muscles: le corps n'en ressort pas indemne, mais le risque est jugé acceptable.Reste le séjour sur Mars, qui durera une quinzaine de mois afin d'attendre que les deux planètes reviennent du même côté du Soleil. Il y fait -63°C en moyenne, et les radiations sont importantes, mais on sait fabriquer des combinaisons et des abris protecteurs.Pour les urgences médicales, la distance rendra impossible une évacuation. Quels pépins devront anticiper les astronautes? D'abord une fracture, mais un plâtre suffira souvent, dit Dan Buckland, ingénieur et médecin urgentiste à l'université Duke, qui développe une aiguille intraveineuse robotisée avec le soutien de la Nasa. Diarrhées, calcul rénal et appendicite sont généralement soignables, sauf 30% des appendicites qui doivent être opérées et pourraient donc être fatales.Avec des dépistages poussés, on peut fortement réduire la probabilité qu'un cancer apparaisse et devienne dangereux en trois ans, dit Dan Buckland.\"Selon moi, il n'y a pas d'obstacle médical absolu pour aller sur Mars\", conclut le médecin.Pour les habitations et les véhicules, un problème sera d'empêcher la poussière de rentrer. \"Mars a ce problème spécifique des tempêtes de poussières\", pointe Robert Howard, du centre Johnson de la Nasa. Ces infernales tempêtes peuvent bloquer pendant des mois le Soleil... et donc tout panneau solaire. Il faudra donc des mini-réacteurs nucléaires. En 2018, la Nasa et le département de l'Energie ont réussi un projet de démonstration, le Kilopower Project.A terme, le but sera de fabriquer des matériaux sur place grâce aux ressources minières, sans doute avec des machines d'impression 3D. Là le développement est embryonnaire, mais le programme lunaire américain Artémis sera un banc d'essai.- Coloniser ? -Elon Musk prône une colonisation de Mars, avec une première équipée pour construire une usine d'oxygène et de carburant (méthane), à partir de l'eau martienne et du dioxyde de carbone de l'atmosphère.\"Devenir une espèce multiplanétaire\", a-t-il lancé dans un discours phare en 2017, \"c'est quand même autre chose que d'être une espèce monoplanétaire\".Robert Zubrin, président de la Mars Society, défend infatigablement la création d'une \"nouvelle branche de l'humanité\". Qu'on n'ait rien fait depuis le dernier pas sur la Lune en 1972 est selon lui honteux.\"C'est comme si, après le retour de Christophe Colomb du Nouveau Monde, Ferdinand et Isabelle avaient dit que cela ne les intéressait pas\", compare-t-il.\"Arrêtons les conneries!\", s'exclame à l'inverse l'exobiologiste Michel Viso, de l'agence spatiale française (CNES). \"On a une planète formidable avec de l'atmosphère, de l'oxygène, de l'eau (...) C'est criminel, on n'a pas le droit de faire croire aux gens qu'il y a un +plan B+, une +planète B+, qu'on va faire une civilisation martienne!\"Que l'humanité installe une colonie ou des bases permanentes, l'obstacle le plus important, pour une présence humaine durable sur Mars, sera de convaincre les peuples et leurs dirigeants d'accepter un niveau de risque supérieur que pour la Lune ou l'ISS, argue Dan Buckland. A long terme, tout le monde ne reviendra pas de Mars.\n",
            "  12  Le Royaume-Uni sortira-t-il de l'Union européenne le 31 octobre prochain ? Le Parlement britannique a adopté cette semaine une proposition de loi contraignant le Premier ministre Boris Johnson à repousser de trois mois la date du Brexit, prévu le 31 octobre, s'il ne trouve pas un accord de divorce avec l'UE d'ici le 19 octobre, soit juste après le prochain conseil européen. Le chef du gouvernement britannique a lui assuré qu'il préférerait \"mourir au fond d'un fossé\" plutôt que d'envisager une telle option. Le ministre français des Affaires étrangères Jean-Yves Le Drian a également exclu ce dimanche 8 septembre tout nouveau report du Brexit dans les circonstances actuelles. \"Dans l'état actuel des choses, c'est non\", a-t-il déclaré dans l'émission politique Le Grand Rendez-vous Europe1/CNEWS/Les Échos.\"Ils (les Britanniques) disent qu'ils veulent proposer d'autres solutions, des arrangements alternatifs pour assurer le retrait (...) Nous ne les avons pas vus, donc c'est non, on ne va pas recommencer tous les trois mois. Que les autorités britanniques nous disent le chemin\", a-t-il martelé.\"Que les Britanniques assument leur situation (..) Il faut qu'ils nous disent ce qu'ils veulent\", a insisté le chef de la diplomatie française. \"Sur le fond, il y a une espèce de conflit de légitimité entre le peuple qui, par la voie du réferendum, a dit 'je veux sortir' (..) et le Parlement, expression du peuple aussi, qui ne sait pas comment sortir\", a-t-il noté. \"Pour l'instant on ne sait pas ce qu'ils veulent faire puisqu'il n'y a pas de majorité pour aucune des options\", a-t-il poursuivi.\"Il y a aujourd'hui une impasse qui se traduit d'ailleurs par des risques concernant le Royaume-Uni puisque l'Écosse agite l'éventualité d'une indépendance\", a-t-il encore souligné.\n",
            "  13  Le gouvernement l'avait annoncé le 14 mai dernier : dès la réouverture des restaurants, le plafond d'utilisation des tickets restaurant serait doublé, passant de 19 à 38 euros par jour, pour soutenir le secteur, durement touché par la crise du coronavirus. Mais alors que cafés, bars et restaurants peuvent de nouveau accueillir des clients, le décret d'application de la mesure n'a pas encore été publié au Journal officiel relève BFMTV mercredi 3 juin. Il était également prévu d'autoriser le paiement en ticket restaurant le week-end et les jours fériés, deux mesures qui devaient rester en vigueur jusqu'au 31 décembre 2020. Selon la chaîne d'information, la parution du décret devrait néanmoins intervenir d'ici la fin de la semaine, ou au plus tard au début de la semaine prochaine.Ces mesures sont très attendues des restaurateurs qui espèrent ainsi accueillir les salariés qui n'ont pas pu utiliser leurs titres restaurant pendant le confinement, à cause de la fermeture des établissements et du recours massif au télétravail. Selon le Groupement national des indépendants, les salariés auraient aujourd'hui un milliard d'euros à dépenser en ticket restaurant.En revanche, le plafond des dépenses quotidiennes réalisées avec les tickets restaurant dans les magasins alimentaires reste fixé à 19 euros. Le ministère du Travail avait annoncé fin avril que ce plafond serait relevé à 95 euros une fois par semaine. La mesure n'a jamais été mise en oeuvre faute de publication du décret annoncé.\n",
            "  14  La présidente d'Île-de-France Mobilités l'a annoncé lundi 20 janvier : un abonnement \"junior\" permettra aux enfants âgés de 4 à 11 ans d'emprunter tous les transports en commun de la région pour 24 euros par an. La mesure devrait être mise en place dès le 1er septembre prochain. \"Suite à de nombreuses remontées de familles en grande couronne (...) j'ai décidé (de) lancer pour septembre prochain un passe junior à petit prix qui permettra aux 4-11 ans pour 24 euros par an de circuler librement sur le réseau francilien\", a déclaré la présidente de l'autorité organisatrice des transports dans la région Valérie Pécresse lors de ses vœux. \"Les transports sont gratuits pour les moins de 4 ans, les collégiens, lycéens et étudiants ont le passe Imagine'R, les actifs ont le passe Navigo remboursé à 50% par les employeurs, et nous avons mis en place l'an dernier le Navigo Senior à 50% pour les retraités. Il manquait quelque chose pour les enfants de maternelle et élémentaire\", a-t-elle expliqué dans une interview donnée au Parisien. Si le prix est symbolique, \"2 euros par mois\", l'élue, qui préside également la région Île-de-France, ne veut \"pas céder aux sirènes de la gratuité\". \"Le transport a de la valeur, il faut donc que subsiste un geste d'achat. C'est un moyen de sensibiliser les jeunes à l'importance d'avoir un titre de transport et de lutter contre la fraude\", a-t-elle indiqué.Cette opération devrait coûter environ 30 millions d'euros par an. Selon Valérie Pécresse, Île-de-France Mobilités compte environ 200.000 abonnés sur les 1,4 million d'enfants de 4 à 11 ans qui habitent la région. Jusqu'à présent, ceux-ci pouvaient acheter un abonnement Imagine'R à 350 euros par an.Valérie Pécresse s'est par ailleurs réjouie de la future ouverture du prolongement du métro 14, à l'été entre Saint-Lazare et Saint-Ouen, et du nouveau tramway T9, à la fin de l'année entre Paris et Orly. Elle a également demandé à l'État de verser les 400 millions prévus pour les investissements cette année, \"sans quoi nous serions obligés de devoir arrêter des projets et renoncer à des nouvelles opérations\", et s'est une fois de plus plainte des retards de chantiers. \"Les Franciliens peuvent comprendre qu'il faille serrer les dents pendant les travaux, en revanche ils détestent payer les frais de chantiers qui ont été mal gérés\", a-t-elle noté, demandant une nouvelle fois un \"fonds d'indemnisation des usagers\". Côté sécurité, l'élue a relevé le déploiement de nouveaux agents de sécurité dans les transports, regrettant le désengagement des forces de l'ordre qui a eu pour conséquence \"l'explosion de la délinquance\" et notamment la forte hausse des vols à la tire dans le métro. Elle entend \"poursuivre les expérimentations (...) sur la reconnaissance faciale\" en restreignant son utilisation à \"des cas très limités\", essentiellement la lutte antiterroriste. \"Il ne s'agit absolument pas de développer Big Brother en Ile-de-France!\".Concernant la grève contre la réforme des retraites qui perturbe les transports franciliens, Mme Pécresse a fait le vœu qu'elle \"se termine au plus vite et que nous puissions tous dédier notre énergie à améliorer le quotidien des Franciliens\". \"J'espère que les syndicats prendront conscience de la fatigue et de la souffrance des voyageurs\", a-t-elle lancé, jugeant qu'\"il faudra tirer les enseignements de ce conflit et des lacunes contractuelles et législatives du service minimum qui ne répond pas aux attentes des voyageurs\". Valérie Pécresse a oœvré en janvier pour que les utilisateurs des transports franciliens soient remboursés de leurs abonnements de décembre.\n",
            "  15  Une touriste s'est noyée, samedi 15 juin, dans le lac Léman, au large de Genève, quand le bateau de plaisance sur lequel elle naviguait a coulé lors d'un violent orage. Un homme se trouvant sur le même bateau que la victime est parvenu à rejoindre à la nage une autre embarcation d'où il a lancé \"deux fusées de détresse\", a expliqué à l'AFP une porte-parole de la police cantonale genevoise, Joanna Matta.Trois bateaux de police, pompiers et secours sont arrivés sur les lieux.L'homme a indiqué que la femme était de \"passage à Genève\" et qu'ils avaient été \"pris par surprise\" par l'orage, a indiqué la porte-parole. La nationalité de la victime n'est pas encore connue. La femme a été retrouvée au fond de l'eau par des plongeurs de la police. Elle a été transportée à l'hôpital de Genève où son décès a été constaté.Des dégâts matériels considérablesLes intempéries, avec un vent soufflant en rafale jusqu'à 40 noeuds, ont aussi touché en fin d'après-midi la 81e édition du Bol d'Or, une importante régate disputée chaque année sur le lac Léman. Ce violent orage a causé des dégâts sur une partie des 465 bateaux qui avaient pris le départ samedi matin de Genève, sans faire de blessés, a indiqué le service de presse de la course.Un catamaran ultra-rapide, \"Real Team\", de la catégorie D35, qui, en 2e position, était en course pour la victoire, a démâté. L'équipage n'a pas été blessé et le voilier a été remorqué. Deux catamarans M2 ont chaviré, a ajouté le service de presse, et plusieurs autres voiliers ont démâté ou ont eu leurs voiles déchirées. L'orage a traversé l'ouest de la Suisse en fin d'après-midi. Le vent a dépassé localement les 110 km/h, selon MeteoSuisse.\n"
          ]
        }
      ],
      "source": [
        "print(\n",
        "    tabulate(\n",
        "        zip(\n",
        "            range(len(summaries_after_tuning)),\n",
        "            summaries_after_tuning,\n",
        "            summaries_before_tuning,\n",
        "        ),\n",
        "        headers=[\"Id\", \"Summary after\", \"Summary before\"],\n",
        "    )\n",
        ")\n",
        "print(\"\\nTarget summaries:\\n\")\n",
        "print(\n",
        "    tabulate(list(enumerate(test_samples[\"titles\"])), headers=[\"Id\", \"Target summary\"])\n",
        ")\n",
        "print(\"\\nSource documents:\\n\")\n",
        "print(tabulate(list(enumerate(test_samples[\"text\"])), headers=[\"Id\", \"Document\"]))"
      ]
    },
    {
      "cell_type": "markdown",
      "metadata": {
        "id": "kuFlhMWpDOVl"
      },
      "source": [
        "## Generate test"
      ]
    },
    {
      "cell_type": "code",
      "execution_count": 26,
      "metadata": {
        "id": "l2eiYIctDdK0"
      },
      "outputs": [],
      "source": [
        "import pandas as pd\n",
        "\n",
        "def make_submission(filepath, output_file):\n",
        "    # format CSV\n",
        "    test_df = pd.read_csv(filepath)\n",
        "    test_df[\"titles\"] = \"\"\n",
        "    test_df[[\"text\", \"titles\"]].to_csv(\"test_formatted.csv\")\n",
        "\n",
        "    dataset = datasets.load_dataset(\"csv\", data_files = \"test_formatted.csv\")\n",
        "    test_samples = dataset[\"train\"]\n",
        "\n",
        "    summaries_dict = {}\n",
        "\n",
        "    for i, sample in enumerate(test_samples):\n",
        "        summaries = generate_summary(test_samples[i], model)[1]\n",
        "        summaries_dict[i] = {\"id\": sample[\"Unnamed: 0\"], \"text\" : sample[\"text\"], \"titles\" : summaries}\n",
        "    print(\"Summaries generated\")\n",
        "\n",
        "    test = pd.from_dict(summaries, \"index\")\n",
        "    test['titles'] = test['titles'].map(lambda x : x[0])\n",
        "    test[[\"ID\", \"titles\"]].to_csv(output_file, index = False)\n",
        "    print(\"File saved\")"
      ]
    },
    {
      "cell_type": "code",
      "execution_count": 27,
      "metadata": {
        "colab": {
          "base_uri": "https://localhost:8080/"
        },
        "id": "gsgIwacXGEgJ",
        "outputId": "8f9f4f00-5f1c-4ef7-89dd-3ce95c825e3e"
      },
      "outputs": [
        {
          "data": {
            "text/plain": [
              "Dataset({\n",
              "    features: ['text', 'titles'],\n",
              "    num_rows: 16\n",
              "})"
            ]
          },
          "execution_count": 27,
          "metadata": {},
          "output_type": "execute_result"
        }
      ],
      "source": [
        "make_submission(\"data/test_text.csv\", \"submission_0.csv\")"
      ]
    }
  ],
  "metadata": {
    "accelerator": "GPU",
    "colab": {
      "provenance": []
    },
    "kernelspec": {
      "display_name": "Python 3",
      "name": "python3"
    },
    "widgets": {
      "application/vnd.jupyter.widget-state+json": {
        "0b541f1b39064c0e834a731188649f33": {
          "model_module": "@jupyter-widgets/base",
          "model_module_version": "1.2.0",
          "model_name": "LayoutModel",
          "state": {
            "_model_module": "@jupyter-widgets/base",
            "_model_module_version": "1.2.0",
            "_model_name": "LayoutModel",
            "_view_count": null,
            "_view_module": "@jupyter-widgets/base",
            "_view_module_version": "1.2.0",
            "_view_name": "LayoutView",
            "align_content": null,
            "align_items": null,
            "align_self": null,
            "border": null,
            "bottom": null,
            "display": null,
            "flex": null,
            "flex_flow": null,
            "grid_area": null,
            "grid_auto_columns": null,
            "grid_auto_flow": null,
            "grid_auto_rows": null,
            "grid_column": null,
            "grid_gap": null,
            "grid_row": null,
            "grid_template_areas": null,
            "grid_template_columns": null,
            "grid_template_rows": null,
            "height": null,
            "justify_content": null,
            "justify_items": null,
            "left": null,
            "margin": null,
            "max_height": null,
            "max_width": null,
            "min_height": null,
            "min_width": null,
            "object_fit": null,
            "object_position": null,
            "order": null,
            "overflow": null,
            "overflow_x": null,
            "overflow_y": null,
            "padding": null,
            "right": null,
            "top": null,
            "visibility": null,
            "width": null
          }
        },
        "14b24a76ca744685a8229cbb6ac38bec": {
          "model_module": "@jupyter-widgets/base",
          "model_module_version": "1.2.0",
          "model_name": "LayoutModel",
          "state": {
            "_model_module": "@jupyter-widgets/base",
            "_model_module_version": "1.2.0",
            "_model_name": "LayoutModel",
            "_view_count": null,
            "_view_module": "@jupyter-widgets/base",
            "_view_module_version": "1.2.0",
            "_view_name": "LayoutView",
            "align_content": null,
            "align_items": null,
            "align_self": null,
            "border": null,
            "bottom": null,
            "display": null,
            "flex": null,
            "flex_flow": null,
            "grid_area": null,
            "grid_auto_columns": null,
            "grid_auto_flow": null,
            "grid_auto_rows": null,
            "grid_column": null,
            "grid_gap": null,
            "grid_row": null,
            "grid_template_areas": null,
            "grid_template_columns": null,
            "grid_template_rows": null,
            "height": null,
            "justify_content": null,
            "justify_items": null,
            "left": null,
            "margin": null,
            "max_height": null,
            "max_width": null,
            "min_height": null,
            "min_width": null,
            "object_fit": null,
            "object_position": null,
            "order": null,
            "overflow": null,
            "overflow_x": null,
            "overflow_y": null,
            "padding": null,
            "right": null,
            "top": null,
            "visibility": null,
            "width": null
          }
        },
        "23a4a95b27014ebf95a8578ef7ae1ff2": {
          "model_module": "@jupyter-widgets/controls",
          "model_module_version": "1.5.0",
          "model_name": "DescriptionStyleModel",
          "state": {
            "_model_module": "@jupyter-widgets/controls",
            "_model_module_version": "1.5.0",
            "_model_name": "DescriptionStyleModel",
            "_view_count": null,
            "_view_module": "@jupyter-widgets/base",
            "_view_module_version": "1.2.0",
            "_view_name": "StyleView",
            "description_width": ""
          }
        },
        "369bf65fcc16498da0257ac05e4fcaad": {
          "model_module": "@jupyter-widgets/controls",
          "model_module_version": "1.5.0",
          "model_name": "FloatProgressModel",
          "state": {
            "_dom_classes": [],
            "_model_module": "@jupyter-widgets/controls",
            "_model_module_version": "1.5.0",
            "_model_name": "FloatProgressModel",
            "_view_count": null,
            "_view_module": "@jupyter-widgets/controls",
            "_view_module_version": "1.5.0",
            "_view_name": "ProgressView",
            "bar_style": "success",
            "description": "",
            "description_tooltip": null,
            "layout": "IPY_MODEL_6bdb68a7b7564ea38989f0776db872f3",
            "max": 450,
            "min": 0,
            "orientation": "horizontal",
            "style": "IPY_MODEL_f598c604f8d94ddcb138e3ec96e2a7af",
            "value": 450
          }
        },
        "5993e9b3453741168a09886a9ab180b0": {
          "model_module": "@jupyter-widgets/controls",
          "model_module_version": "1.5.0",
          "model_name": "HTMLModel",
          "state": {
            "_dom_classes": [],
            "_model_module": "@jupyter-widgets/controls",
            "_model_module_version": "1.5.0",
            "_model_name": "HTMLModel",
            "_view_count": null,
            "_view_module": "@jupyter-widgets/controls",
            "_view_module_version": "1.5.0",
            "_view_name": "HTMLView",
            "description": "",
            "description_tooltip": null,
            "layout": "IPY_MODEL_14b24a76ca744685a8229cbb6ac38bec",
            "placeholder": "​",
            "style": "IPY_MODEL_23a4a95b27014ebf95a8578ef7ae1ff2",
            "value": "Map: 100%"
          }
        },
        "5adfbb9b03454944a14c034a8e9106f5": {
          "model_module": "@jupyter-widgets/controls",
          "model_module_version": "1.5.0",
          "model_name": "HBoxModel",
          "state": {
            "_dom_classes": [],
            "_model_module": "@jupyter-widgets/controls",
            "_model_module_version": "1.5.0",
            "_model_name": "HBoxModel",
            "_view_count": null,
            "_view_module": "@jupyter-widgets/controls",
            "_view_module_version": "1.5.0",
            "_view_name": "HBoxView",
            "box_style": "",
            "children": [
              "IPY_MODEL_5993e9b3453741168a09886a9ab180b0",
              "IPY_MODEL_74eca1c88d1e40bfb36dcccc4eef32f1",
              "IPY_MODEL_f39a9652fbfb486f88aeb8e18a0de582"
            ],
            "layout": "IPY_MODEL_0b541f1b39064c0e834a731188649f33"
          }
        },
        "6bdb68a7b7564ea38989f0776db872f3": {
          "model_module": "@jupyter-widgets/base",
          "model_module_version": "1.2.0",
          "model_name": "LayoutModel",
          "state": {
            "_model_module": "@jupyter-widgets/base",
            "_model_module_version": "1.2.0",
            "_model_name": "LayoutModel",
            "_view_count": null,
            "_view_module": "@jupyter-widgets/base",
            "_view_module_version": "1.2.0",
            "_view_name": "LayoutView",
            "align_content": null,
            "align_items": null,
            "align_self": null,
            "border": null,
            "bottom": null,
            "display": null,
            "flex": null,
            "flex_flow": null,
            "grid_area": null,
            "grid_auto_columns": null,
            "grid_auto_flow": null,
            "grid_auto_rows": null,
            "grid_column": null,
            "grid_gap": null,
            "grid_row": null,
            "grid_template_areas": null,
            "grid_template_columns": null,
            "grid_template_rows": null,
            "height": null,
            "justify_content": null,
            "justify_items": null,
            "left": null,
            "margin": null,
            "max_height": null,
            "max_width": null,
            "min_height": null,
            "min_width": null,
            "object_fit": null,
            "object_position": null,
            "order": null,
            "overflow": null,
            "overflow_x": null,
            "overflow_y": null,
            "padding": null,
            "right": null,
            "top": null,
            "visibility": null,
            "width": null
          }
        },
        "70e98190a5ba4cd6a94856f575952c9e": {
          "model_module": "@jupyter-widgets/base",
          "model_module_version": "1.2.0",
          "model_name": "LayoutModel",
          "state": {
            "_model_module": "@jupyter-widgets/base",
            "_model_module_version": "1.2.0",
            "_model_name": "LayoutModel",
            "_view_count": null,
            "_view_module": "@jupyter-widgets/base",
            "_view_module_version": "1.2.0",
            "_view_name": "LayoutView",
            "align_content": null,
            "align_items": null,
            "align_self": null,
            "border": null,
            "bottom": null,
            "display": null,
            "flex": null,
            "flex_flow": null,
            "grid_area": null,
            "grid_auto_columns": null,
            "grid_auto_flow": null,
            "grid_auto_rows": null,
            "grid_column": null,
            "grid_gap": null,
            "grid_row": null,
            "grid_template_areas": null,
            "grid_template_columns": null,
            "grid_template_rows": null,
            "height": null,
            "justify_content": null,
            "justify_items": null,
            "left": null,
            "margin": null,
            "max_height": null,
            "max_width": null,
            "min_height": null,
            "min_width": null,
            "object_fit": null,
            "object_position": null,
            "order": null,
            "overflow": null,
            "overflow_x": null,
            "overflow_y": null,
            "padding": null,
            "right": null,
            "top": null,
            "visibility": null,
            "width": null
          }
        },
        "74eca1c88d1e40bfb36dcccc4eef32f1": {
          "model_module": "@jupyter-widgets/controls",
          "model_module_version": "1.5.0",
          "model_name": "FloatProgressModel",
          "state": {
            "_dom_classes": [],
            "_model_module": "@jupyter-widgets/controls",
            "_model_module_version": "1.5.0",
            "_model_name": "FloatProgressModel",
            "_view_count": null,
            "_view_module": "@jupyter-widgets/controls",
            "_view_module_version": "1.5.0",
            "_view_name": "ProgressView",
            "bar_style": "success",
            "description": "",
            "description_tooltip": null,
            "layout": "IPY_MODEL_f203dfd4c81b4a5981a7d6294f837bba",
            "max": 1050,
            "min": 0,
            "orientation": "horizontal",
            "style": "IPY_MODEL_fa5117f89a7d4becaaaaa9a9d039987a",
            "value": 1050
          }
        },
        "8b7ba68eaf214bb2813dbed87b27582c": {
          "model_module": "@jupyter-widgets/controls",
          "model_module_version": "1.5.0",
          "model_name": "DescriptionStyleModel",
          "state": {
            "_model_module": "@jupyter-widgets/controls",
            "_model_module_version": "1.5.0",
            "_model_name": "DescriptionStyleModel",
            "_view_count": null,
            "_view_module": "@jupyter-widgets/base",
            "_view_module_version": "1.2.0",
            "_view_name": "StyleView",
            "description_width": ""
          }
        },
        "970a9fb303f142cfb6c4ef92b0ea3dfe": {
          "model_module": "@jupyter-widgets/controls",
          "model_module_version": "1.5.0",
          "model_name": "HTMLModel",
          "state": {
            "_dom_classes": [],
            "_model_module": "@jupyter-widgets/controls",
            "_model_module_version": "1.5.0",
            "_model_name": "HTMLModel",
            "_view_count": null,
            "_view_module": "@jupyter-widgets/controls",
            "_view_module_version": "1.5.0",
            "_view_name": "HTMLView",
            "description": "",
            "description_tooltip": null,
            "layout": "IPY_MODEL_ac3e5ab0d9d346aebce41afeac9f5963",
            "placeholder": "​",
            "style": "IPY_MODEL_f2dc13c5824847adab174320eedd6879",
            "value": " 450/450 [00:01&lt;00:00, 239.96 examples/s]"
          }
        },
        "97fa0e36e57041f3b373a086c0def2b9": {
          "model_module": "@jupyter-widgets/controls",
          "model_module_version": "1.5.0",
          "model_name": "HBoxModel",
          "state": {
            "_dom_classes": [],
            "_model_module": "@jupyter-widgets/controls",
            "_model_module_version": "1.5.0",
            "_model_name": "HBoxModel",
            "_view_count": null,
            "_view_module": "@jupyter-widgets/controls",
            "_view_module_version": "1.5.0",
            "_view_name": "HBoxView",
            "box_style": "",
            "children": [
              "IPY_MODEL_c2beaf2316db4709bbcd5595eee76eef",
              "IPY_MODEL_369bf65fcc16498da0257ac05e4fcaad",
              "IPY_MODEL_970a9fb303f142cfb6c4ef92b0ea3dfe"
            ],
            "layout": "IPY_MODEL_70e98190a5ba4cd6a94856f575952c9e"
          }
        },
        "a2d6479ff0d44124b8f81e1d1636bf21": {
          "model_module": "@jupyter-widgets/base",
          "model_module_version": "1.2.0",
          "model_name": "LayoutModel",
          "state": {
            "_model_module": "@jupyter-widgets/base",
            "_model_module_version": "1.2.0",
            "_model_name": "LayoutModel",
            "_view_count": null,
            "_view_module": "@jupyter-widgets/base",
            "_view_module_version": "1.2.0",
            "_view_name": "LayoutView",
            "align_content": null,
            "align_items": null,
            "align_self": null,
            "border": null,
            "bottom": null,
            "display": null,
            "flex": null,
            "flex_flow": null,
            "grid_area": null,
            "grid_auto_columns": null,
            "grid_auto_flow": null,
            "grid_auto_rows": null,
            "grid_column": null,
            "grid_gap": null,
            "grid_row": null,
            "grid_template_areas": null,
            "grid_template_columns": null,
            "grid_template_rows": null,
            "height": null,
            "justify_content": null,
            "justify_items": null,
            "left": null,
            "margin": null,
            "max_height": null,
            "max_width": null,
            "min_height": null,
            "min_width": null,
            "object_fit": null,
            "object_position": null,
            "order": null,
            "overflow": null,
            "overflow_x": null,
            "overflow_y": null,
            "padding": null,
            "right": null,
            "top": null,
            "visibility": null,
            "width": null
          }
        },
        "ac3e5ab0d9d346aebce41afeac9f5963": {
          "model_module": "@jupyter-widgets/base",
          "model_module_version": "1.2.0",
          "model_name": "LayoutModel",
          "state": {
            "_model_module": "@jupyter-widgets/base",
            "_model_module_version": "1.2.0",
            "_model_name": "LayoutModel",
            "_view_count": null,
            "_view_module": "@jupyter-widgets/base",
            "_view_module_version": "1.2.0",
            "_view_name": "LayoutView",
            "align_content": null,
            "align_items": null,
            "align_self": null,
            "border": null,
            "bottom": null,
            "display": null,
            "flex": null,
            "flex_flow": null,
            "grid_area": null,
            "grid_auto_columns": null,
            "grid_auto_flow": null,
            "grid_auto_rows": null,
            "grid_column": null,
            "grid_gap": null,
            "grid_row": null,
            "grid_template_areas": null,
            "grid_template_columns": null,
            "grid_template_rows": null,
            "height": null,
            "justify_content": null,
            "justify_items": null,
            "left": null,
            "margin": null,
            "max_height": null,
            "max_width": null,
            "min_height": null,
            "min_width": null,
            "object_fit": null,
            "object_position": null,
            "order": null,
            "overflow": null,
            "overflow_x": null,
            "overflow_y": null,
            "padding": null,
            "right": null,
            "top": null,
            "visibility": null,
            "width": null
          }
        },
        "c2beaf2316db4709bbcd5595eee76eef": {
          "model_module": "@jupyter-widgets/controls",
          "model_module_version": "1.5.0",
          "model_name": "HTMLModel",
          "state": {
            "_dom_classes": [],
            "_model_module": "@jupyter-widgets/controls",
            "_model_module_version": "1.5.0",
            "_model_name": "HTMLModel",
            "_view_count": null,
            "_view_module": "@jupyter-widgets/controls",
            "_view_module_version": "1.5.0",
            "_view_name": "HTMLView",
            "description": "",
            "description_tooltip": null,
            "layout": "IPY_MODEL_a2d6479ff0d44124b8f81e1d1636bf21",
            "placeholder": "​",
            "style": "IPY_MODEL_8b7ba68eaf214bb2813dbed87b27582c",
            "value": "Map: 100%"
          }
        },
        "f203dfd4c81b4a5981a7d6294f837bba": {
          "model_module": "@jupyter-widgets/base",
          "model_module_version": "1.2.0",
          "model_name": "LayoutModel",
          "state": {
            "_model_module": "@jupyter-widgets/base",
            "_model_module_version": "1.2.0",
            "_model_name": "LayoutModel",
            "_view_count": null,
            "_view_module": "@jupyter-widgets/base",
            "_view_module_version": "1.2.0",
            "_view_name": "LayoutView",
            "align_content": null,
            "align_items": null,
            "align_self": null,
            "border": null,
            "bottom": null,
            "display": null,
            "flex": null,
            "flex_flow": null,
            "grid_area": null,
            "grid_auto_columns": null,
            "grid_auto_flow": null,
            "grid_auto_rows": null,
            "grid_column": null,
            "grid_gap": null,
            "grid_row": null,
            "grid_template_areas": null,
            "grid_template_columns": null,
            "grid_template_rows": null,
            "height": null,
            "justify_content": null,
            "justify_items": null,
            "left": null,
            "margin": null,
            "max_height": null,
            "max_width": null,
            "min_height": null,
            "min_width": null,
            "object_fit": null,
            "object_position": null,
            "order": null,
            "overflow": null,
            "overflow_x": null,
            "overflow_y": null,
            "padding": null,
            "right": null,
            "top": null,
            "visibility": null,
            "width": null
          }
        },
        "f2dc13c5824847adab174320eedd6879": {
          "model_module": "@jupyter-widgets/controls",
          "model_module_version": "1.5.0",
          "model_name": "DescriptionStyleModel",
          "state": {
            "_model_module": "@jupyter-widgets/controls",
            "_model_module_version": "1.5.0",
            "_model_name": "DescriptionStyleModel",
            "_view_count": null,
            "_view_module": "@jupyter-widgets/base",
            "_view_module_version": "1.2.0",
            "_view_name": "StyleView",
            "description_width": ""
          }
        },
        "f39a9652fbfb486f88aeb8e18a0de582": {
          "model_module": "@jupyter-widgets/controls",
          "model_module_version": "1.5.0",
          "model_name": "HTMLModel",
          "state": {
            "_dom_classes": [],
            "_model_module": "@jupyter-widgets/controls",
            "_model_module_version": "1.5.0",
            "_model_name": "HTMLModel",
            "_view_count": null,
            "_view_module": "@jupyter-widgets/controls",
            "_view_module_version": "1.5.0",
            "_view_name": "HTMLView",
            "description": "",
            "description_tooltip": null,
            "layout": "IPY_MODEL_f6833d97b62c49448c82e797205662be",
            "placeholder": "​",
            "style": "IPY_MODEL_f903e5d4857f401aae73e09df1ccfdff",
            "value": " 1050/1050 [00:04&lt;00:00, 217.95 examples/s]"
          }
        },
        "f598c604f8d94ddcb138e3ec96e2a7af": {
          "model_module": "@jupyter-widgets/controls",
          "model_module_version": "1.5.0",
          "model_name": "ProgressStyleModel",
          "state": {
            "_model_module": "@jupyter-widgets/controls",
            "_model_module_version": "1.5.0",
            "_model_name": "ProgressStyleModel",
            "_view_count": null,
            "_view_module": "@jupyter-widgets/base",
            "_view_module_version": "1.2.0",
            "_view_name": "StyleView",
            "bar_color": null,
            "description_width": ""
          }
        },
        "f6833d97b62c49448c82e797205662be": {
          "model_module": "@jupyter-widgets/base",
          "model_module_version": "1.2.0",
          "model_name": "LayoutModel",
          "state": {
            "_model_module": "@jupyter-widgets/base",
            "_model_module_version": "1.2.0",
            "_model_name": "LayoutModel",
            "_view_count": null,
            "_view_module": "@jupyter-widgets/base",
            "_view_module_version": "1.2.0",
            "_view_name": "LayoutView",
            "align_content": null,
            "align_items": null,
            "align_self": null,
            "border": null,
            "bottom": null,
            "display": null,
            "flex": null,
            "flex_flow": null,
            "grid_area": null,
            "grid_auto_columns": null,
            "grid_auto_flow": null,
            "grid_auto_rows": null,
            "grid_column": null,
            "grid_gap": null,
            "grid_row": null,
            "grid_template_areas": null,
            "grid_template_columns": null,
            "grid_template_rows": null,
            "height": null,
            "justify_content": null,
            "justify_items": null,
            "left": null,
            "margin": null,
            "max_height": null,
            "max_width": null,
            "min_height": null,
            "min_width": null,
            "object_fit": null,
            "object_position": null,
            "order": null,
            "overflow": null,
            "overflow_x": null,
            "overflow_y": null,
            "padding": null,
            "right": null,
            "top": null,
            "visibility": null,
            "width": null
          }
        },
        "f903e5d4857f401aae73e09df1ccfdff": {
          "model_module": "@jupyter-widgets/controls",
          "model_module_version": "1.5.0",
          "model_name": "DescriptionStyleModel",
          "state": {
            "_model_module": "@jupyter-widgets/controls",
            "_model_module_version": "1.5.0",
            "_model_name": "DescriptionStyleModel",
            "_view_count": null,
            "_view_module": "@jupyter-widgets/base",
            "_view_module_version": "1.2.0",
            "_view_name": "StyleView",
            "description_width": ""
          }
        },
        "fa5117f89a7d4becaaaaa9a9d039987a": {
          "model_module": "@jupyter-widgets/controls",
          "model_module_version": "1.5.0",
          "model_name": "ProgressStyleModel",
          "state": {
            "_model_module": "@jupyter-widgets/controls",
            "_model_module_version": "1.5.0",
            "_model_name": "ProgressStyleModel",
            "_view_count": null,
            "_view_module": "@jupyter-widgets/base",
            "_view_module_version": "1.2.0",
            "_view_name": "StyleView",
            "bar_color": null,
            "description_width": ""
          }
        }
      }
    }
  },
  "nbformat": 4,
  "nbformat_minor": 0
}
